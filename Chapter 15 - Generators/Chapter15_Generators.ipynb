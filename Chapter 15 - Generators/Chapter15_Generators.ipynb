{
 "cells": [
  {
   "cell_type": "markdown",
   "metadata": {
    "nbpresent": {
     "id": "7c5caee9-7d2c-42bd-9a83-ee44531bb576"
    },
    "slideshow": {
     "slide_type": "slide"
    }
   },
   "source": [
    "Chapter 15: Generators\n",
    "=============================\n",
    "_____________________________\n",
    "The functions generally follow the conventional process flow, return values ​​and quit. Generators work similarly, but remember the state of the processing between calls, staying in memory and returning the next item expected when activated.\n",
    "\n",
    "The generators have several advantages over conventional functions:\n",
    "\n",
    "+ *Lazy Evaluation*: generators are only processed when it is really needed, saving processing resources. \n",
    "+ They reduce the need to create lists.\n",
    "+ They allow to work with unlimited sequences of elements.\n",
    "\n",
    "Generators are usually called through a *for* loop. The  syntax is similar to the traditional function, just the *yield* instruction substitutes *return*. In each new iteraction, *yield* returns the next value.\n",
    "\n",
    "Exemple:"
   ]
  },
  {
   "cell_type": "code",
   "execution_count": 2,
   "metadata": {
    "collapsed": false,
    "nbpresent": {
     "id": "c6ca2aad-4102-43c4-bda5-a060474c8001"
    },
    "slideshow": {
     "slide_type": "fragment"
    }
   },
   "outputs": [
    {
     "name": "stdout",
     "output_type": "stream",
     "text": [
      "0\n",
      "2\n",
      "4\n",
      "6\n",
      "8\n",
      "10\n",
      "12\n",
      "14\n",
      "16\n",
      "18\n",
      "20\n"
     ]
    }
   ],
   "source": [
    "def gen_pares():\n",
    "    \"\"\"\n",
    "    Generates even numbers from 0 to 20\n",
    "    \"\"\"\n",
    "    i = 0\n",
    "\n",
    "    while i <= 20:\n",
    "        yield i\n",
    "        i += 2\n",
    "\n",
    "# Shows each number and goes to the next\n",
    "for n in gen_pares():\n",
    "    print (n)"
   ]
  },
  {
   "cell_type": "markdown",
   "metadata": {
    "nbpresent": {
     "id": "9f09a586-4e4a-4ac0-b7ff-8c65fb8f57fc"
    }
   },
   "source": [
    "Another example:"
   ]
  },
  {
   "cell_type": "code",
   "execution_count": 1,
   "metadata": {
    "collapsed": false,
    "nbpresent": {
     "id": "5ba80ed2-5c02-4ae6-bb42-4f18e38820bf"
    }
   },
   "outputs": [
    {
     "name": "stdout",
     "output_type": "stream",
     "text": [
      ".ipynb_checkpoints\\Chapter15_Generators-checkpoint.ipynb\n",
      "Chapter15_Generators.ipynb\n"
     ]
    }
   ],
   "source": [
    "import os\n",
    "\n",
    "# Finds files recursively\n",
    "def find(path='.'):\n",
    "\n",
    "    for item in os.listdir(path):\n",
    "        fn = os.path.normpath(os.path.join(path, item))\n",
    "\n",
    "        if os.path.isdir(fn):\n",
    "\n",
    "            for f in find(fn):\n",
    "                yield f\n",
    "        else:\n",
    "            yield fn\n",
    "\n",
    "# At each interaction, the generator yeld a new file name\n",
    "for fn in find():\n",
    "    print (fn)"
   ]
  },
  {
   "cell_type": "code",
   "execution_count": 1,
   "metadata": {
    "collapsed": false,
    "nbpresent": {
     "id": "234cc323-a367-44d3-831b-861b0c1c72ca"
    }
   },
   "outputs": [
    {
     "data": {
      "text/html": [
       "<style>\n",
       "    @font-face {\n",
       "        font-family: \"Computer Modern\";\n",
       "        src: url('http://mirrors.ctan.org/fonts/cm-unicode/fonts/otf/cmunss.otf');\n",
       "    }\n",
       "    div.cell{\n",
       "        width:800px;\n",
       "        margin-left:16% !important;\n",
       "        margin-right:auto;\n",
       "    }\n",
       "    h1 {\n",
       "        font-family: Helvetica, serif;\n",
       "    }\n",
       "    h4{\n",
       "        margin-top:12px;\n",
       "        margin-bottom: 3px;\n",
       "       }\n",
       "    div.text_cell_render{\n",
       "        font-family: Computer Modern, \"Helvetica Neue\", Arial, Helvetica, Geneva, sans-serif;\n",
       "        line-height: 145%;\n",
       "        font-size: 130%;\n",
       "        width:800px;\n",
       "        margin-left:auto;\n",
       "        margin-right:auto;\n",
       "    }\n",
       "    .CodeMirror{\n",
       "            font-family: \"Source Code Pro\", source-code-pro,Consolas, monospace;\n",
       "    }\n",
       "    .note{\n",
       "            border-bottom: 1px black dotted;\n",
       "    }\n",
       "    .prompt{\n",
       "        display: None;\n",
       "    }\n",
       "    .text_cell_render h5 {\n",
       "        font-weight: 300;\n",
       "        font-size: 16pt;\n",
       "        color: #4057A1;\n",
       "        font-style: italic;\n",
       "        margin-bottom: .5em;\n",
       "        margin-top: 0.5em;\n",
       "        display: block;\n",
       "    }\n",
       "    \n",
       "    .warning{\n",
       "        color: rgb( 240, 20, 20 )\n",
       "        }  \n",
       "</style>\n",
       "<script>\n",
       "    MathJax.Hub.Config({\n",
       "                        TeX: {\n",
       "                           extensions: [\"AMSmath.js\"]\n",
       "                           },\n",
       "                tex2jax: {\n",
       "                    inlineMath: [ ['$','$'], [\"\\\\(\",\"\\\\)\"] ],\n",
       "                    displayMath: [ ['$$','$$'], [\"\\\\[\",\"\\\\]\"] ]\n",
       "                },\n",
       "                displayAlign: 'center', // Change this to 'center' to center equations.\n",
       "                \"HTML-CSS\": {\n",
       "                    styles: {'.MathJax_Display': {\"margin\": 4}}\n",
       "                }\n",
       "        });\n",
       "</script>"
      ],
      "text/plain": [
       "<IPython.core.display.HTML at 0x50f8f98>"
      ]
     },
     "execution_count": 1,
     "metadata": {},
     "output_type": "execute_result"
    }
   ],
   "source": []
  }
 ],
 "metadata": {
  "anaconda-cloud": {},
  "celltoolbar": "Slideshow",
  "kernelspec": {
   "display_name": "Python [Root]",
   "language": "python",
   "name": "Python [Root]"
  },
  "language_info": {
   "codemirror_mode": {
    "name": "ipython",
    "version": 3
   },
   "file_extension": ".py",
   "mimetype": "text/x-python",
   "name": "python",
   "nbconvert_exporter": "python",
   "pygments_lexer": "ipython3",
   "version": "3.5.2"
  },
  "nbpresent": {
   "slides": {
    "0f14d72c-61b2-43d4-8e85-f5f714b5bd5b": {
     "id": "0f14d72c-61b2-43d4-8e85-f5f714b5bd5b",
     "prev": null,
     "regions": {
      "28f15ac9-2995-4951-8814-85de9e7aeb57": {
       "attrs": {
        "height": 0.8,
        "width": 0.8,
        "x": 0.1,
        "y": 0.1
       },
       "content": {
        "cell": "7c5caee9-7d2c-42bd-9a83-ee44531bb576",
        "part": "whole"
       },
       "id": "28f15ac9-2995-4951-8814-85de9e7aeb57"
      }
     }
    },
    "495868e6-6aef-448e-84e7-f74dd4d67e78": {
     "id": "495868e6-6aef-448e-84e7-f74dd4d67e78",
     "prev": "e02a8ceb-d07f-4a1c-a907-4571d2cb6366",
     "regions": {
      "3705d750-6336-4606-8965-203e348ea4a5": {
       "attrs": {
        "height": 0.8,
        "width": 0.8,
        "x": 0.1,
        "y": 0.1
       },
       "content": {
        "cell": "5ba80ed2-5c02-4ae6-bb42-4f18e38820bf",
        "part": "whole"
       },
       "id": "3705d750-6336-4606-8965-203e348ea4a5"
      }
     }
    },
    "4c41d27b-0553-4aa6-8bfd-373be7c22a46": {
     "id": "4c41d27b-0553-4aa6-8bfd-373be7c22a46",
     "prev": "495868e6-6aef-448e-84e7-f74dd4d67e78",
     "regions": {}
    },
    "8030de7a-a87f-45ea-85aa-b889ec6d0361": {
     "id": "8030de7a-a87f-45ea-85aa-b889ec6d0361",
     "prev": "0f14d72c-61b2-43d4-8e85-f5f714b5bd5b",
     "regions": {
      "1e0d23c4-b279-4d64-ba7e-802f59127e19": {
       "attrs": {
        "height": 0.8,
        "width": 0.8,
        "x": 0.1,
        "y": 0.1
       },
       "content": {
        "cell": "c6ca2aad-4102-43c4-bda5-a060474c8001",
        "part": "whole"
       },
       "id": "1e0d23c4-b279-4d64-ba7e-802f59127e19"
      }
     }
    },
    "b2bee408-eb0c-4c69-a5e0-9e1e4765b46f": {
     "id": "b2bee408-eb0c-4c69-a5e0-9e1e4765b46f",
     "prev": "4c41d27b-0553-4aa6-8bfd-373be7c22a46",
     "regions": {
      "3dbeb2aa-02e6-41fa-b7b8-eb1d1a111b6d": {
       "attrs": {
        "height": 0.8,
        "width": 0.8,
        "x": 0.1,
        "y": 0.1
       },
       "content": {
        "cell": "234cc323-a367-44d3-831b-861b0c1c72ca",
        "part": "whole"
       },
       "id": "3dbeb2aa-02e6-41fa-b7b8-eb1d1a111b6d"
      }
     }
    },
    "e02a8ceb-d07f-4a1c-a907-4571d2cb6366": {
     "id": "e02a8ceb-d07f-4a1c-a907-4571d2cb6366",
     "prev": "8030de7a-a87f-45ea-85aa-b889ec6d0361",
     "regions": {
      "43cbe341-4f3d-45d5-8311-d68b20d48fac": {
       "attrs": {
        "height": 0.8,
        "width": 0.8,
        "x": 0.1,
        "y": 0.1
       },
       "content": {
        "cell": "9f09a586-4e4a-4ac0-b7ff-8c65fb8f57fc",
        "part": "whole"
       },
       "id": "43cbe341-4f3d-45d5-8311-d68b20d48fac"
      }
     }
    }
   },
   "themes": {}
  }
 },
 "nbformat": 4,
 "nbformat_minor": 0
}
