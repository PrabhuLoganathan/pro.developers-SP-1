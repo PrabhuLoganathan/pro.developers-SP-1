{
 "cells": [
  {
   "cell_type": "markdown",
   "metadata": {},
   "source": [
    "# Exercises - Conditions\n",
    "\n",
    "Write a program to \n",
    "- perform a quiz of 10 questions and once its completed provide the results to the user\n",
    "- assign grades to students at the end of the year. The program must do the following:\n",
    "        Ask for a student number.\n",
    "        Ask for the student’s tutorial mark.\n",
    "        Ask for the student’s test mark.\n",
    "Calculate whether the student’s average so far is high enough for the student to be permitted to write the examination. If the average (mean) of the tutorial and test marks is lower than 40%, the student should automatically get an F grade, and the program should print the grade and exit without performing the following steps.\n",
    "\n",
    "        Ask for the student’s examination mark.\n",
    "\n",
    "Calculate the student’s final mark. The tutorial and test marks should count for 25% of the final mark each, and the final examination should count for the remaining 50%.\n",
    "\n",
    "        Calculate and print the student’s grade, according to the following table:\n",
    "        Weighted final score \tFinal grade\n",
    "        80 <= mark <= 100 \tA\n",
    "        70 <= mark < 80 \tB\n",
    "        60 <= mark < 70 \tC\n",
    "        50 <= mark < 60 \tD\n",
    "        mark < 50 \tE\n",
    "        \n",
    "        \n",
    "- Rewrite the following fragment as an if-ladder (using elif statements):\n",
    "```python\n",
    "if temperature < 0:\n",
    "    print(\"Below freezing\")\n",
    "else:\n",
    "    if temperature < 10:\n",
    "        print(\"Very cold\")\n",
    "    else:\n",
    "        if temperature < 20:\n",
    "            print(Chilly)\n",
    "        else:\n",
    "            if temperature < 30:\n",
    "                print(\"Warm\")\n",
    "            else:\n",
    "                if temperature < 40:\n",
    "                    print(\"Hot\")\n",
    "                else:\n",
    "                    print(\"Too hot\")\n",
    "```"
   ]
  }
 ],
 "metadata": {
  "kernelspec": {
   "display_name": "Python 3",
   "language": "python",
   "name": "python3"
  },
  "language_info": {
   "codemirror_mode": {
    "name": "ipython",
    "version": 3
   },
   "file_extension": ".py",
   "mimetype": "text/x-python",
   "name": "python",
   "nbconvert_exporter": "python",
   "pygments_lexer": "ipython3",
   "version": "3.5.1"
  }
 },
 "nbformat": 4,
 "nbformat_minor": 0
}
