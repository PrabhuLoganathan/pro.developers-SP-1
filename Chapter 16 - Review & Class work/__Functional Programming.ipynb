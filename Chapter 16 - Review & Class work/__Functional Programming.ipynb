{
 "cells": [
  {
   "cell_type": "markdown",
   "metadata": {},
   "source": [
    "# Basics of Functional code\n",
    "---\n",
    "* Functions are first­class ­­ You can store them in a structure, pass them to a function, and return them from a function. \n",
    "* Function calls can take keyword arguments. \n",
    "Example: \n",
    "> test(size=25) \n",
    "* Formal parameters to a function can have default values. \n",
    "Example: \n",
    "> def test(size=0): ... \n",
    "* Do not use mutable objects as default values. You can \"capture\" remaining arguments with *args, and **kwargs. (Spelling is not significant.)"
   ]
  },
  {
   "cell_type": "code",
   "execution_count": 14,
   "metadata": {
    "collapsed": false
   },
   "outputs": [
    {
     "name": "stdout",
     "output_type": "stream",
     "text": [
      "Hello David Mertz\n",
      "Bye Jane Doe\n"
     ]
    }
   ],
   "source": [
    "map(do_it, [f1, f2])\n",
    "hello = lambda first, last: print(\"Hello\", first, last)\n",
    "bye = lambda first, last: print(\"Bye\", first, last)\n",
    "_ = list(map(do_it, [hello, bye], ['David','Jane', 'Mayank'], ['Mertz','Doe', 'Johri']))"
   ]
  },
  {
   "cell_type": "code",
   "execution_count": null,
   "metadata": {
    "collapsed": true
   },
   "outputs": [],
   "source": []
  },
  {
   "cell_type": "code",
   "execution_count": null,
   "metadata": {
    "collapsed": true
   },
   "outputs": [],
   "source": []
  }
 ],
 "metadata": {
  "anaconda-cloud": {},
  "kernelspec": {
   "display_name": "Python [Root]",
   "language": "python",
   "name": "Python [Root]"
  },
  "language_info": {
   "codemirror_mode": {
    "name": "ipython",
    "version": 3
   },
   "file_extension": ".py",
   "mimetype": "text/x-python",
   "name": "python",
   "nbconvert_exporter": "python",
   "pygments_lexer": "ipython3",
   "version": "3.5.2"
  }
 },
 "nbformat": 4,
 "nbformat_minor": 0
}
