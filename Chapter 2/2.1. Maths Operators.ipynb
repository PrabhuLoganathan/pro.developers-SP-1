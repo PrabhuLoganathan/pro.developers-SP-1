{
 "cells": [
  {
   "cell_type": "markdown",
   "metadata": {},
   "source": [
    "## Maths Operators\n",
    "| Mark | Meaning              |\n",
    "|------|----------------------|\n",
    "| +    | plus                 |\n",
    "| -    | minus                |\n",
    "| /    | slash                |\n",
    "| *    | asterisk             |\n",
    "| %    | percent              |\n",
    "| <    | less- than           |\n",
    "| >    | greater- than        |\n",
    "| <=   | less- than- equal    |\n",
    "| >=   | greater- than- equal |"
   ]
  },
  {
   "cell_type": "code",
   "execution_count": 4,
   "metadata": {
    "collapsed": false
   },
   "outputs": [
    {
     "name": "stdout",
     "output_type": "stream",
     "text": [
      "x = 12\n",
      "!!! Say Cheese !!!\n",
      "Is x > z True  and y is !!! Say Cheese !!!\n",
      "x - z = 8.55\n",
      "HCL HCL HCL HCL HCL HCL HCL HCL HCL HCL \n"
     ]
    },
    {
     "ename": "TypeError",
     "evalue": "unsupported operand type(s) for -: 'str' and 'int'",
     "output_type": "error",
     "traceback": [
      "\u001b[1;31m---------------------------------------------------------------------------\u001b[0m",
      "\u001b[1;31mTypeError\u001b[0m                                 Traceback (most recent call last)",
      "\u001b[1;32m<ipython-input-4-d00845e2b271>\u001b[0m in \u001b[0;36m<module>\u001b[1;34m()\u001b[0m\n\u001b[0;32m     12\u001b[0m \u001b[0mprint\u001b[0m\u001b[1;33m(\u001b[0m\u001b[1;34m\"x - z =\"\u001b[0m\u001b[1;33m,\u001b[0m \u001b[0mx\u001b[0m \u001b[1;33m-\u001b[0m \u001b[0mz\u001b[0m\u001b[1;33m)\u001b[0m\u001b[1;33m\u001b[0m\u001b[0m\n\u001b[0;32m     13\u001b[0m \u001b[0mprint\u001b[0m\u001b[1;33m(\u001b[0m\u001b[1;34m\"HCL \"\u001b[0m\u001b[1;33m*\u001b[0m\u001b[1;36m10\u001b[0m\u001b[1;33m)\u001b[0m\u001b[1;33m\u001b[0m\u001b[0m\n\u001b[1;32m---> 14\u001b[1;33m \u001b[0mprint\u001b[0m\u001b[1;33m(\u001b[0m\u001b[0my\u001b[0m \u001b[1;33m-\u001b[0m \u001b[0mx\u001b[0m\u001b[1;33m)\u001b[0m\u001b[1;33m\u001b[0m\u001b[0m\n\u001b[0m",
      "\u001b[1;31mTypeError\u001b[0m: unsupported operand type(s) for -: 'str' and 'int'"
     ]
    }
   ],
   "source": [
    "# Sample Code\n",
    "# Say Cheese\n",
    "x = 34 - 23 # A comment.\n",
    "y = \"!!! Say\" # Another one.\n",
    "z = 3.45\n",
    "if z == 3.45 or y == \"Say\":\n",
    "    x = x + 1\n",
    "    y = y + \" Cheese !!!\" # String concat.\n",
    "print(\"x = \" + str(x))\n",
    "print(y)\n",
    "print(\"Is x > z\", x > z ,\" and y is\", y)\n",
    "print(\"x - z =\", x - z)\n",
    "print(\"HCL \"*10)\n",
    "# print(y - x)"
   ]
  },
  {
   "cell_type": "code",
   "execution_count": 5,
   "metadata": {
    "collapsed": false
   },
   "outputs": [
    {
     "name": "stdout",
     "output_type": "stream",
     "text": [
      "x % z = 1.6499999999999995\n",
      "x >= z True\n"
     ]
    }
   ],
   "source": [
    "print(\"x % z =\", x % z )\n",
    "print(\"x >= z\", x >= z)"
   ]
  },
  {
   "cell_type": "code",
   "execution_count": null,
   "metadata": {
    "collapsed": true
   },
   "outputs": [],
   "source": []
  }
 ],
 "metadata": {
  "anaconda-cloud": {},
  "kernelspec": {
   "display_name": "Python [Root]",
   "language": "python",
   "name": "Python [Root]"
  },
  "language_info": {
   "codemirror_mode": {
    "name": "ipython",
    "version": 3
   },
   "file_extension": ".py",
   "mimetype": "text/x-python",
   "name": "python",
   "nbconvert_exporter": "python",
   "pygments_lexer": "ipython3",
   "version": "3.5.2"
  }
 },
 "nbformat": 4,
 "nbformat_minor": 0
}
