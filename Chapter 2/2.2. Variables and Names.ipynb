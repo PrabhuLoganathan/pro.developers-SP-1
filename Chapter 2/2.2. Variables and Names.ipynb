{
 "cells": [
  {
   "cell_type": "markdown",
   "metadata": {},
   "source": [
    "# Variables and Names\n",
    "---"
   ]
  },
  {
   "cell_type": "markdown",
   "metadata": {},
   "source": [
    "## *Variable Naming Conventions and Rules*\n",
    "\n",
    "* Must begin with a letter (a - z, A - B) or underscore (_)\n",
    "* Other characters can be letters, numbers or _\n",
    "* Case Sensitive\n",
    "* Can be any (reasonable) length\n",
    "* There are some reserved words which you cannot use as a variable name because Python uses them for other things."
   ]
  },
  {
   "cell_type": "markdown",
   "metadata": {},
   "source": [
    "### Good Variable Name\n",
    "\n",
    "* Choose meaningful name instead of short name. roll_no is better than rn.\n",
    "* Maintain the length of a variable name. Roll_no_of_a-student is too long?\n",
    "* Be consistent; roll_no or or RollNo\n",
    "* Begin a variable name with underscore(_) character for special case."
   ]
  },
  {
   "cell_type": "code",
   "execution_count": 4,
   "metadata": {
    "collapsed": true
   },
   "outputs": [],
   "source": [
    "# Good Names\n",
    "myName = \"Mayank Johri\"\n",
    "user_name = \"Test User\"\n",
    "_username = \"user name\""
   ]
  },
  {
   "cell_type": "markdown",
   "metadata": {},
   "source": [
    "## Python Assignment Statements\n",
    "----\n",
    "### Single Assignment\n",
    "The assignment statement creates new variables and gives them values. Basic assignment statement in Python is :\n",
    "\n",
    "Syntax\n",
    "\n",
    "> [variable] = [expr]\n",
    "\n",
    "Where the equal sign (=) is used to assign value (right side) to a variable name (left side). See the following statements :"
   ]
  },
  {
   "cell_type": "code",
   "execution_count": 2,
   "metadata": {
    "collapsed": false
   },
   "outputs": [
    {
     "name": "stdout",
     "output_type": "stream",
     "text": [
      "My Name is : Mayank and today's temperature is 24\n"
     ]
    }
   ],
   "source": [
    "my_name = \"Mayank\"\n",
    "currentTemperature = \"24\" \n",
    "print(\"My Name is : {0} and today's temperature is {0}\".format(my_name, currentTemperature))"
   ]
  },
  {
   "cell_type": "markdown",
   "metadata": {},
   "source": [
    "### Multiple Assignment\n",
    "The basic assignment statement works for a single variable and a single expression. You can also assign a single value to more than one variables simultaneously.\n",
    "\n",
    "Syntax\n",
    "\n",
    "> var1=var2=var3...varn= = [expr]"
   ]
  },
  {
   "cell_type": "code",
   "execution_count": 12,
   "metadata": {
    "collapsed": false
   },
   "outputs": [
    {
     "name": "stdout",
     "output_type": "stream",
     "text": [
      "2 - 1 - 3\n",
      "3 - 1 - 2\n",
      "2 - 3 - 1\n"
     ]
    }
   ],
   "source": [
    "x = y = z = 1\n",
    "z = 3\n",
    "y = 2\n",
    "print(\"{1} - {2} - {0}\".format(z, y, x))\n",
    "print(\"{0} - {2} - {1}\".format(z, y, x))\n",
    "print(\"{1} - {0} - {2}\".format(z, y, x))"
   ]
  },
  {
   "cell_type": "markdown",
   "metadata": {},
   "source": [
    "Syntax\n",
    "\n",
    "> var1,var2,var3...varn= = [expr1],[expr2],[expr3]...[exprn]"
   ]
  },
  {
   "cell_type": "code",
   "execution_count": 18,
   "metadata": {
    "collapsed": false
   },
   "outputs": [
    {
     "name": "stdout",
     "output_type": "stream",
     "text": [
      "India 100 22.22222\n"
     ]
    }
   ],
   "source": [
    "x, y, z = \"India\", 100, 22.22222\n",
    "print(x, y, z)"
   ]
  },
  {
   "cell_type": "code",
   "execution_count": 4,
   "metadata": {
    "collapsed": false
   },
   "outputs": [
    {
     "name": "stdout",
     "output_type": "stream",
     "text": [
      "10 20\n",
      "20 10\n"
     ]
    }
   ],
   "source": [
    "# Swap variables\n",
    "x = 10\n",
    "y = 20\n",
    "z = 30\n",
    "print(x, y)\n",
    "x, y, z = z, y, x\n",
    "print(x, y)"
   ]
  },
  {
   "cell_type": "markdown",
   "metadata": {},
   "source": [
    "## Local and global variables in Python\n",
    "In Python, variables that are only referenced inside a function are implicitly global. If a variable is assigned a value anywhere within the function’s body, it’s assumed to be a local unless explicitly declared as global."
   ]
  },
  {
   "cell_type": "code",
   "execution_count": 16,
   "metadata": {
    "collapsed": false
   },
   "outputs": [
    {
     "name": "stdout",
     "output_type": "stream",
     "text": [
      "In side func1() var1 =  PHP\n",
      "In side func2() var1 =  Python\n",
      "In side func3() name =  Python\n"
     ]
    }
   ],
   "source": [
    "var1 = \"Python\"  \n",
    "def func1():  \n",
    "    var1 = \"PHP\"  \n",
    "    print(\"In side func1() var1 = \",var1)  \n",
    "\n",
    "def func2():  \n",
    "    print(\"In side func2() var1 = \",var1)  \n",
    "    return var1\n",
    "\n",
    "def func3(name):  \n",
    "    print(\"In side func3() name = \",name)  \n",
    "\n",
    "func1()  \n",
    "func3(func2())  "
   ]
  },
  {
   "cell_type": "code",
   "execution_count": 17,
   "metadata": {
    "collapsed": false
   },
   "outputs": [
    {
     "name": "stdout",
     "output_type": "stream",
     "text": [
      "In side func2() var1 =  Python\n",
      "In side func1() var1 =  PHP\n",
      "In side func2() var1 =  PHP\n"
     ]
    }
   ],
   "source": [
    "var1 = \"Python\"  \n",
    "def func1():  \n",
    "    global var1\n",
    "    var1 = \"PHP\"  \n",
    "    print(\"In side func1() var1 = \",var1)  \n",
    "\n",
    "def func2():  \n",
    "    print(\"In side func2() var1 = \",var1)  \n",
    "\n",
    "func2()\n",
    "func1()  \n",
    "func2()  "
   ]
  },
  {
   "cell_type": "code",
   "execution_count": 26,
   "metadata": {
    "collapsed": false
   },
   "outputs": [
    {
     "name": "stdout",
     "output_type": "stream",
     "text": [
      "1. In side func1() var1 =  Python\n",
      "2. In side func1() var1 =  PHP\n",
      "In side func2() var1 =  PHP\n"
     ]
    }
   ],
   "source": [
    "var1 = \"Python\"  \n",
    "def func1():  \n",
    "    global var1\n",
    "    print(\"1. In side func1() var1 = \",var1)\n",
    "    var1 = \"PHP\"  \n",
    "    print(\"2. In side func1() var1 = \",var1)  \n",
    "\n",
    "def func2():  \n",
    "    print(\"In side func2() var1 = \",var1)  \n",
    "    \n",
    "func1()  \n",
    "func2()  \n"
   ]
  },
  {
   "cell_type": "code",
   "execution_count": null,
   "metadata": {
    "collapsed": true
   },
   "outputs": [],
   "source": []
  },
  {
   "cell_type": "code",
   "execution_count": null,
   "metadata": {
    "collapsed": true
   },
   "outputs": [],
   "source": []
  }
 ],
 "metadata": {
  "anaconda-cloud": {},
  "kernelspec": {
   "display_name": "Python [Root]",
   "language": "python",
   "name": "Python [Root]"
  },
  "language_info": {
   "codemirror_mode": {
    "name": "ipython",
    "version": 3
   },
   "file_extension": ".py",
   "mimetype": "text/x-python",
   "name": "python",
   "nbconvert_exporter": "python",
   "pygments_lexer": "ipython3",
   "version": "3.5.2"
  }
 },
 "nbformat": 4,
 "nbformat_minor": 0
}
