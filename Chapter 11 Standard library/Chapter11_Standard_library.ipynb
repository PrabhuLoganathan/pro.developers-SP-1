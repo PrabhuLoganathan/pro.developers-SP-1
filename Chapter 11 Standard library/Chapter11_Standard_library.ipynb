{
 "cells": [
  {
   "cell_type": "markdown",
   "metadata": {},
   "source": [
    "Chapter 11: Standard Library\n",
    "=============================\n",
    "_____________________________\n",
    "It's often said that Python comes with \"batteries included\", in reference to the vast library of modules and packages that are distributed with the interpreter.\n",
    "\n",
    "Some important modules of the standard library:\n",
    "\n",
    "+ Math: math, cmath, and random decimal.\n",
    "+ System: os, glob, subprocess and shutils.\n",
    "+ Threads: threading.\n",
    "+ Persistence: pickle and cPickle.\n",
    "+ XML: xml.dom, xml.sax and ElementTree (since version 2.5).\n",
    "+ Configuration: ConfigParser and optparse.\n",
    "+ Time: time and datetime.\n",
    "+ Other: sys, logging, traceback, types and timeit.\n",
    "\n",
    "Maths\n",
    "----------\n",
    "In addition to the *builtin* numeric types in the Python standard library, there are several modules devoted to implementing other types and mathematical operations.\n",
    "\n",
    "The *math* module defines logarithmic, exponentiation, trigonometric, and hyperbolic functions, as well as angular conversions and more. The *cmath* module implements similar functions, but can handle complex numbers.\n",
    "\n",
    "Example:"
   ]
  },
  {
   "cell_type": "code",
   "execution_count": 3,
   "metadata": {
    "collapsed": false
   },
   "outputs": [
    {
     "name": "stdout",
     "output_type": "stream",
     "text": [
      "Complex: 3j\n",
      "Polar: (3.0, 1.5707963267948966) (in radians)\n",
      "Amplitude: 3.0\n",
      "Angle: 90.0 (grades)\n",
      "Complex: (1.5+1j)\n",
      "Polar: (1.8027756377319946, 0.5880026035475675) (in radians)\n",
      "Amplitude: 1.8027756377319946\n",
      "Angle: 33.690067525979785 (grades)\n",
      "Complex: (-2-2j)\n",
      "Polar: (2.8284271247461903, -2.356194490192345) (in radians)\n",
      "Amplitude: 2.8284271247461903\n",
      "Angle: -135.0 (grades)\n"
     ]
    }
   ],
   "source": [
    "import math\n",
    "\n",
    "import cmath\n",
    "\n",
    "# Complex\n",
    "for cpx in [3j, 1.5 + 1j, -2 - 2j]:\n",
    "\n",
    "    # Polar coordinate conversion\n",
    "    plr = cmath.polar(cpx)\n",
    "    print ('Complex:', cpx)\n",
    "    print ('Polar:', plr, '(in radians)')\n",
    "    print ('Amplitude:', abs(cpx))\n",
    "    print ('Angle:', math.degrees(plr[1]), '(grades)')"
   ]
  },
  {
   "cell_type": "markdown",
   "metadata": {},
   "source": [
    "The *random* module brings functions for random number generation.\n",
    "\n",
    "Examples:"
   ]
  },
  {
   "cell_type": "code",
   "execution_count": 5,
   "metadata": {
    "collapsed": false
   },
   "outputs": [
    {
     "name": "stdout",
     "output_type": "stream",
     "text": [
      "ABCDEFGHIJKLMNOPQRSTUVWXYZ\n",
      "I\n",
      "8\n",
      "794.1858027539502\n",
      "242\n"
     ]
    }
   ],
   "source": [
    "import random\n",
    "import string\n",
    "\n",
    "# Choose a letter\n",
    "print(string.ascii_uppercase)\n",
    "print (random.choice(string.ascii_uppercase))\n",
    "\n",
    "# Choose a number from 1 to 10\n",
    "print (random.randrange(1, 11))\n",
    "\n",
    "# Choose a float from 0 to 1\n",
    "print (random.random()*1000)\n",
    "\n",
    "\n",
    "print (int(random.random()*1000))"
   ]
  },
  {
   "cell_type": "markdown",
   "metadata": {},
   "source": [
    "In the standard library there is the decimal module that defines operations with real numbers with fixed precision.\n",
    "\n",
    "Example:"
   ]
  },
  {
   "cell_type": "code",
   "execution_count": 3,
   "metadata": {
    "collapsed": false
   },
   "outputs": [
    {
     "name": "stdout",
     "output_type": "stream",
     "text": [
      "Float: 1.0269562977782698e-15\n",
      "Decimal: 0.0\n"
     ]
    }
   ],
   "source": [
    "from decimal import Decimal\n",
    "\n",
    "t = 5.\n",
    "for i in range(50):\n",
    "    t = t - 0.1\n",
    "\n",
    "print ('Float:', t)\n",
    "\n",
    "t = Decimal('5.')\n",
    "for i in range(50):\n",
    "    t = t - Decimal('0.1')\n",
    "\n",
    "print ('Decimal:', t)"
   ]
  },
  {
   "cell_type": "markdown",
   "metadata": {},
   "source": [
    "With this module, it is possible to reduce the introduction of rounding errors arising from floating point arithmetic.\n",
    "\n",
    "In version 2.6, the module *fractions*, which deals with rational numbers,  is also available.\n",
    "\n",
    "Example:"
   ]
  },
  {
   "cell_type": "code",
   "execution_count": 1,
   "metadata": {
    "collapsed": false
   },
   "outputs": [
    {
     "name": "stdout",
     "output_type": "stream",
     "text": [
      "Fraction('-2/3') = -2/3\n",
      "Fraction('3, 4') = 3/4\n",
      "Fraction('.25') = 1/4\n",
      "-2/3 + 3/4 = 1/12\n",
      "3/4 + 1/4 = 1\n"
     ]
    }
   ],
   "source": [
    "from fractions import Fraction\n",
    "\n",
    "# Three fractions\n",
    "f1 = Fraction('-2/3')\n",
    "f2 = Fraction(3, 4)\n",
    "f3 = Fraction('.25')\n",
    "print (\"Fraction('-2/3') =\", f1)\n",
    "print (\"Fraction(3, 4) =\", f2)\n",
    "print (\"Fraction('.25') =\", f3)\n",
    "\n",
    "# Sum\n",
    "print (f1, '+', f2, '=', f1 + f2)\n",
    "print (f2, '+', f3, '=', f2 + f3)"
   ]
  },
  {
   "cell_type": "markdown",
   "metadata": {},
   "source": [
    "Fractions can be initialized in several ways: as a *string*, as a pair of integers, or as a real number. The module also has a function called `gcd()` which calculates the greatest common divisor (gcd) of two integers.\n",
    "\n",
    "Files and I/O\n",
    "--------------\n",
    "Files in Python are represented by objects of type <span class=\"note\" title=\"the reference open points to file\">*file*</span>, which offer various methods for file operations. Files can be opened for reading ('r', which is the default), writing ('w'), or appending ('a'), in text or binary ('b') mode.\n",
    "\n",
    "In Python:\n",
    "\n",
    "+ *sys.stdin* is the standard input.\n",
    "+ *sys.stdout* is the standard output.\n",
    "+ *sys.stderr* is the standard error output.\n",
    "\n",
    "The standard input, output and error are handled by Python as open files. The input in read mode and the other in the recording mode.\n",
    "\n",
    "Sample of writing:"
   ]
  },
  {
   "cell_type": "code",
   "execution_count": 20,
   "metadata": {
    "collapsed": false
   },
   "outputs": [
    {
     "name": "stdout",
     "output_type": "stream",
     "text": [
      "0.008642474239167086\n"
     ]
    }
   ],
   "source": [
    "# The old way .... the C,C++ etc way\n",
    "\n",
    "import sys\n",
    "import timeit\n",
    "start_time = timeit.default_timer()\n",
    "# code you want to evaluate\n",
    "# Create an object of type file\n",
    "temp = open('temp.txt', 'w')\n",
    "\n",
    "# Write output\n",
    "for i in range(10):\n",
    "    temp.write('%03d\\n' % i)\n",
    "\n",
    "temp.close()\n",
    "\n",
    "temp = open('temp.txt')\n",
    "\n",
    "# Write in terminal\n",
    "for x in temp:\n",
    "    # writing in sys.stdout sends\n",
    "    # text to standard output\n",
    "    sys.stdout.write(x)\n",
    "    pass\n",
    "\n",
    "temp.close()\n",
    "elapsed = timeit.default_timer() - start_time\n",
    "print(elapsed)"
   ]
  },
  {
   "cell_type": "code",
   "execution_count": 9,
   "metadata": {
    "collapsed": false
   },
   "outputs": [
    {
     "name": "stdout",
     "output_type": "stream",
     "text": [
      "1011\n",
      "1012\n",
      "1013\n",
      "1014\n",
      "1015\n",
      "1016\n",
      "1017\n",
      "1018\n",
      "1019\n",
      "1020\n",
      "1021\n",
      "1022\n",
      "1023\n",
      "1024\n",
      "1025\n",
      "1026\n",
      "1027\n",
      "1028\n",
      "1029\n",
      "1030\n",
      "1031\n",
      "1032\n",
      "1033\n",
      "1034\n",
      "1035\n",
      "1036\n",
      "1037\n",
      "1038\n",
      "1039\n",
      "1040\n",
      "1041\n",
      "1042\n",
      "1043\n",
      "1044\n",
      "1045\n",
      "1046\n",
      "1047\n",
      "1048\n",
      "1049\n",
      "1050\n",
      "1051\n",
      "1052\n",
      "1053\n",
      "1054\n",
      "1055\n",
      "1056\n",
      "1057\n",
      "1058\n",
      "1059\n",
      "1060\n",
      "1061\n",
      "1062\n",
      "1063\n",
      "1064\n",
      "1065\n",
      "1066\n",
      "1067\n",
      "1068\n",
      "1069\n",
      "1070\n",
      "1071\n",
      "1072\n",
      "1073\n",
      "1074\n",
      "1075\n",
      "1076\n",
      "1077\n",
      "1078\n",
      "1079\n",
      "1080\n",
      "1081\n",
      "1082\n",
      "1083\n",
      "1084\n",
      "1085\n",
      "1086\n",
      "1087\n",
      "1088\n",
      "1089\n",
      "1090\n",
      "1091\n",
      "1092\n",
      "1093\n",
      "1094\n",
      "1095\n",
      "1096\n",
      "1097\n",
      "1098\n",
      "1099\n",
      "1100\n",
      "1101\n",
      "1102\n",
      "1103\n",
      "1104\n",
      "1105\n",
      "1106\n",
      "1107\n",
      "1108\n",
      "1109\n",
      "0.007740981399592783\n"
     ]
    }
   ],
   "source": [
    "#  Python way\n",
    "import sys\n",
    "import timeit\n",
    "start_time = timeit.default_timer()\n",
    "# Create an object of type file\n",
    "with open('temp.txt', 'w') as temp:\n",
    "    # Write output\n",
    "    for i in range(1011,1110):\n",
    "        temp.write('%03d\\n' % i)\n",
    "# temp.close()\n",
    "\n",
    "with open('temp.txt') as temp:\n",
    "    # Write in terminal\n",
    "    for x in temp:\n",
    "        # writing in sys.stdout sends\n",
    "        sys.stdout.write(x)\n",
    "#         print(x)\n",
    "elapsed = timeit.default_timer() - start_time\n",
    "print(elapsed)\n",
    "#temp.close()"
   ]
  },
  {
   "cell_type": "markdown",
   "metadata": {},
   "source": [
    "At each iteration in the second loop, the object returns a line from the file each time.\n",
    "\n",
    "Reading example:"
   ]
  },
  {
   "cell_type": "code",
   "execution_count": 13,
   "metadata": {
    "collapsed": false
   },
   "outputs": [
    {
     "name": "stdout",
     "output_type": "stream",
     "text": [
      "Try again...\n"
     ]
    },
    {
     "ename": "SystemExit",
     "evalue": "110011",
     "output_type": "error",
     "traceback": [
      "An exception has occurred, use %tb to see the full traceback.\n",
      "\u001b[1;31mSystemExit\u001b[0m\u001b[1;31m:\u001b[0m 110011\n"
     ]
    },
    {
     "name": "stderr",
     "output_type": "stream",
     "text": [
      "To exit: use 'exit', 'quit', or Ctrl-D.\n"
     ]
    }
   ],
   "source": [
    "import sys\n",
    "import os.path\n",
    "\n",
    "fn = 'temp122.txt'\n",
    "\n",
    "if not os.path.exists(fn):\n",
    "    print ('Try again...')\n",
    "    sys.exit(110011)\n",
    "\n",
    "# Numbering lines\n",
    "for i, s in enumerate(open(fn)):\n",
    "    print (i + 1, s),"
   ]
  },
  {
   "cell_type": "markdown",
   "metadata": {},
   "source": [
    "It is possible to read all the lines with the method `readlines()`:"
   ]
  },
  {
   "cell_type": "code",
   "execution_count": 14,
   "metadata": {
    "collapsed": false
   },
   "outputs": [
    {
     "name": "stdout",
     "output_type": "stream",
     "text": [
      "['1011\\n', '1012\\n', '1013\\n', '1014\\n', '1015\\n', '1016\\n', '1017\\n', '1018\\n', '1019\\n', '1020\\n', '1021\\n', '1022\\n', '1023\\n', '1024\\n', '1025\\n', '1026\\n', '1027\\n', '1028\\n', '1029\\n', '1030\\n', '1031\\n', '1032\\n', '1033\\n', '1034\\n', '1035\\n', '1036\\n', '1037\\n', '1038\\n', '1039\\n', '1040\\n', '1041\\n', '1042\\n', '1043\\n', '1044\\n', '1045\\n', '1046\\n', '1047\\n', '1048\\n', '1049\\n', '1050\\n', '1051\\n', '1052\\n', '1053\\n', '1054\\n', '1055\\n', '1056\\n', '1057\\n', '1058\\n', '1059\\n', '1060\\n', '1061\\n', '1062\\n', '1063\\n', '1064\\n', '1065\\n', '1066\\n', '1067\\n', '1068\\n', '1069\\n', '1070\\n', '1071\\n', '1072\\n', '1073\\n', '1074\\n', '1075\\n', '1076\\n', '1077\\n', '1078\\n', '1079\\n', '1080\\n', '1081\\n', '1082\\n', '1083\\n', '1084\\n', '1085\\n', '1086\\n', '1087\\n', '1088\\n', '1089\\n', '1090\\n', '1091\\n', '1092\\n', '1093\\n', '1094\\n', '1095\\n', '1096\\n', '1097\\n', '1098\\n', '1099\\n', '1100\\n', '1101\\n', '1102\\n', '1103\\n', '1104\\n', '1105\\n', '1106\\n', '1107\\n', '1108\\n', '1109\\n']\n"
     ]
    }
   ],
   "source": [
    "# Prints a list with all the lines from a file\n",
    "print (open('./temp.txt').readlines())"
   ]
  },
  {
   "cell_type": "markdown",
   "metadata": {},
   "source": [
    "The objects of type file also have the method `seek()`, which allow going to any position in the file.\n",
    "\n",
    "In version 2.6 the module *io* is available, which implements file operations and text manipulation routines separately.\n",
    "\n",
    "File Systems\n",
    "-------------------\n",
    "Modern operating systems store files in hierarchical structures called *file systems*.\n",
    "\n",
    "Several features related to file systems are implemented in the module *os.path*, such as: \n",
    "\n",
    "+ `os.path.basename()`: returns the final component of a path.\n",
    "+ `os.path.dirname()`: returns a path without the final component.\n",
    "+ `os.path.exists()`: returns *True* if the path exists or *False* otherwise.\n",
    "+ `os.path.getsize()`: returns the size of the file in *bytes*.\n",
    "\n",
    "*glob* is another module related to the file system:"
   ]
  },
  {
   "cell_type": "code",
   "execution_count": 24,
   "metadata": {
    "collapsed": false
   },
   "outputs": [
    {
     "name": "stdout",
     "output_type": "stream",
     "text": [
      "Chapter11_Standard_library.ipynb 35296\n",
      "arq.zip 189\n",
      "arq1.zip 189\n",
      "dt.csv 70\n",
      "eggs.csv 77\n",
      "temp.txt 50\n"
     ]
    }
   ],
   "source": [
    "import os.path\n",
    "import glob\n",
    "\n",
    "# Shows a list of file names\n",
    "# and their respective sizes \n",
    "for arq in sorted(glob.glob('*.*')):\n",
    "    print (arq, os.path.getsize(arq))"
   ]
  },
  {
   "cell_type": "markdown",
   "metadata": {},
   "source": [
    "The *glob.glob()* function returns a list of filenames that meet the criteria passed as a parameter in a similar way to the `ls` command available on UNIX systems.\n",
    "\n",
    "Temporary files\n",
    "--------------------\n",
    "The module *os* implements some functions to facilitate the creation of temporary files, freeing the developer from some concerns, such as:\n",
    "\n",
    "+ Avoiding collisions with names of files that are in use.\n",
    "+ Identifying the appropriate area of the file system for temporary files (which varies by operating system).\n",
    "+ Not exposing the implementation risks (temporary area is used by other processes).\n",
    "\n",
    "Example:"
   ]
  },
  {
   "cell_type": "code",
   "execution_count": 15,
   "metadata": {
    "collapsed": false
   },
   "outputs": [
    {
     "name": "stdout",
     "output_type": "stream",
     "text": [
      "created temporary directory C:\\Users\\HCLQAV~1\\AppData\\Local\\Temp\\tmp_crfryj2\n"
     ]
    }
   ],
   "source": [
    "import tempfile\n",
    "\n",
    "# create a temporary file and write some data to it\n",
    "fp = tempfile.TemporaryFile()\n",
    "fp.write(b'Hello world!')\n",
    "# read data from file\n",
    "fp.seek(0)\n",
    "fp.read()\n",
    "\n",
    "# close the file, it will be removed\n",
    "fp.close()\n",
    "\n",
    "# create a temporary file using a context manager\n",
    "with tempfile.TemporaryFile() as fp:\n",
    "    fp.write(b'Hello world!')\n",
    "    fp.seek(0)\n",
    "    fp.read()\n",
    "\n",
    "# file is now closed and removed\n",
    "\n",
    "# create a temporary directory using the context manager\n",
    "with tempfile.TemporaryDirectory() as tmpdirname:\n",
    "    print('created temporary directory', tmpdirname)\n",
    "\n",
    "# directory and contents have been removed"
   ]
  },
  {
   "cell_type": "markdown",
   "metadata": {},
   "source": [
    "There is also the `tempnam()` function, which returns a valid name for temporary file, including a path that respects the conventions of the operating system. However, it is up to the developer to ensure that the routine is used so as not to compromise the security of the application.\n",
    "\n",
    "Compressed files\n",
    "--------------------\n",
    "Python has modules to work with multiple formats of compressed files.\n",
    "\n",
    "Example of writing a \".zip\" file:"
   ]
  },
  {
   "cell_type": "code",
   "execution_count": 17,
   "metadata": {
    "collapsed": false
   },
   "outputs": [],
   "source": [
    "\"\"\"\n",
    "Writing text in a compressed file\n",
    "\"\"\"\n",
    "\n",
    "import zipfile\n",
    "\n",
    "text = \"\"\"\n",
    "**************************************\n",
    "This text will be compressed and ...\n",
    "... stored inside a zip file.\n",
    "***************************************\n",
    "\"\"\"\n",
    "\n",
    "# Creates a new zip\n",
    "zip = zipfile.ZipFile('arq2.zip', 'w',\n",
    "    zipfile.ZIP_DEFLATED)\n",
    "\n",
    "# Writes a string in zip as if it were a file\n",
    "zip.writestr('text.txt', text)\n",
    "\n",
    "# closes the zip\n",
    "zip.close()\n"
   ]
  },
  {
   "cell_type": "markdown",
   "metadata": {},
   "source": [
    "Reading example:"
   ]
  },
  {
   "cell_type": "code",
   "execution_count": 18,
   "metadata": {
    "collapsed": false
   },
   "outputs": [
    {
     "name": "stdout",
     "output_type": "stream",
     "text": [
      "File: text.txt\n",
      "Original size: 147\n",
      "Compressed size: 75\n",
      "b'\\n**************************************\\nThis text will be compressed and ...\\n... stored inside a zip file.\\n***************************************\\n'\n"
     ]
    }
   ],
   "source": [
    "\"\"\"\n",
    "Reading a compressed file\n",
    "\"\"\"\n",
    "\n",
    "import zipfile\n",
    "\n",
    "# Open the zip file for reading \n",
    "zip = zipfile.ZipFile('arq2.zip')\n",
    "\n",
    "# Gets a list of compressed files\n",
    "arqs = zip.namelist()\n",
    "\n",
    "for arq in arqs:\n",
    "    # Shows the file name\n",
    "    print ('File:', arq)\n",
    "    # get file info\n",
    "    zipinfo = zip.getinfo(arq)\n",
    "    print ('Original size:', zipinfo.file_size)\n",
    "    print ('Compressed size:', zipinfo.compress_size)\n",
    "\n",
    "    # Shows file content\n",
    "    print (zip.read(arq))"
   ]
  },
  {
   "cell_type": "markdown",
   "metadata": {},
   "source": [
    "Python also provides modules for gzip, bzip2 and tar formats that are widely used in UNIX environments.\n",
    "\n",
    "Data file\n",
    "----------------\n",
    "In the standard library, Python also provides a module to simplify the processing of files in CSV (*Comma Separated Values*) format.\n",
    "\n",
    "In CSV format, the data is stored in text form, separated by commas, one record per line.\n",
    "\n",
    "Writing example:"
   ]
  },
  {
   "cell_type": "code",
   "execution_count": 21,
   "metadata": {
    "collapsed": false
   },
   "outputs": [],
   "source": [
    "import csv\n",
    "with open('eggs.csv', 'w', newline='') as csvfile:\n",
    "    spamwriter = csv.writer(csvfile, delimiter=' ',\n",
    "                            quotechar='|', quoting=csv.QUOTE_MINIMAL)\n",
    "    spamwriter.writerow(['Spam'] * 5 + ['Baked Beans'])\n",
    "    spamwriter.writerow(['Spam', 'Lovely Spam', 'Wonderful Spam'])"
   ]
  },
  {
   "cell_type": "markdown",
   "metadata": {},
   "source": [
    "Reading example:"
   ]
  },
  {
   "cell_type": "code",
   "execution_count": 20,
   "metadata": {
    "collapsed": false
   },
   "outputs": [
    {
     "name": "stdout",
     "output_type": "stream",
     "text": [
      "Spam, Spam, Spam, Spam, Spam, Baked Beans\n",
      "Spam, Lovely Spam, Wonderful Spam\n"
     ]
    }
   ],
   "source": [
    "import csv\n",
    "\n",
    "with open(\"eggs.csv\", newline='') as csvfile:\n",
    "    for row in csv.reader(csvfile, delimiter=' ', quotechar='|'):\n",
    "        print(', '.join(row))\n"
   ]
  },
  {
   "cell_type": "markdown",
   "metadata": {},
   "source": [
    "The CSV format is supported by most spreadsheet and databases for data import and export.\n",
    "\n",
    "Operating System\n",
    "-------------------\n",
    "Apart from the file system, the modules of the standard library also provides access to other services provided by the operating system.\n",
    "\n",
    "Example:"
   ]
  },
  {
   "cell_type": "code",
   "execution_count": 23,
   "metadata": {
    "collapsed": false
   },
   "outputs": [
    {
     "name": "stdout",
     "output_type": "stream",
     "text": [
      "\\\\MicrosoftAccount\n"
     ]
    }
   ],
   "source": [
    "import os\n",
    "import sys\n",
    "import platform\n",
    "\n",
    "def uid():\n",
    "    \"\"\"\n",
    "    uid() -> returns the current user identification\n",
    "    or None if not possible to identify\n",
    "    \"\"\"\n",
    "\n",
    "    # Ambient variables for each operating system\n",
    "    us = {'Windows': 'USERNAME',\n",
    "        'Linux': 'USER'}\n",
    "\n",
    "    u = us.get(platform.system())\n",
    "    return os.environ.get(u)\n",
    "\n",
    "# print ('User:', uid())\n",
    "# print ('plataform:', platform.platform())\n",
    "# print ('Current dir:', os.path.abspath(os.curdir))\n",
    "# exep, exef = os.path.split(sys.executable)\n",
    "# print ('Executable:', exef)\n",
    "# print ('Executable dir:', exep)\n",
    "print(os.environ.get(\"LOGONSERVER\"))"
   ]
  },
  {
   "cell_type": "markdown",
   "metadata": {},
   "source": [
    "Process execution example:"
   ]
  },
  {
   "cell_type": "code",
   "execution_count": 40,
   "metadata": {
    "collapsed": false
   },
   "outputs": [
    {
     "ename": "FileNotFoundError",
     "evalue": "[Errno 2] No such file or directory: 'ping -c 1 127.0.0.1'",
     "output_type": "error",
     "traceback": [
      "\u001b[1;31m---------------------------------------------------------------------------\u001b[0m",
      "\u001b[1;31mFileNotFoundError\u001b[0m                         Traceback (most recent call last)",
      "\u001b[1;32m<ipython-input-40-5eeb98992f5d>\u001b[0m in \u001b[0;36m<module>\u001b[1;34m()\u001b[0m\n\u001b[0;32m     13\u001b[0m \u001b[1;31m# Comunicates with another process\u001b[0m\u001b[1;33m\u001b[0m\u001b[1;33m\u001b[0m\u001b[0m\n\u001b[0;32m     14\u001b[0m \u001b[1;31m# a pipe with the command stdout\u001b[0m\u001b[1;33m\u001b[0m\u001b[1;33m\u001b[0m\u001b[0m\n\u001b[1;32m---> 15\u001b[1;33m \u001b[0mpy\u001b[0m \u001b[1;33m=\u001b[0m \u001b[0mPopen\u001b[0m\u001b[1;33m(\u001b[0m\u001b[0mcmd\u001b[0m \u001b[1;33m+\u001b[0m \u001b[0mhost\u001b[0m\u001b[1;33m,\u001b[0m \u001b[0mstdout\u001b[0m\u001b[1;33m=\u001b[0m\u001b[0mPIPE\u001b[0m\u001b[1;33m)\u001b[0m\u001b[1;33m\u001b[0m\u001b[0m\n\u001b[0m\u001b[0;32m     16\u001b[0m \u001b[1;33m\u001b[0m\u001b[0m\n\u001b[0;32m     17\u001b[0m \u001b[1;31m# Shows command output\u001b[0m\u001b[1;33m\u001b[0m\u001b[1;33m\u001b[0m\u001b[0m\n",
      "\u001b[1;32m/home/mayank/apps/anaconda3/lib/python3.5/subprocess.py\u001b[0m in \u001b[0;36m__init__\u001b[1;34m(self, args, bufsize, executable, stdin, stdout, stderr, preexec_fn, close_fds, shell, cwd, env, universal_newlines, startupinfo, creationflags, restore_signals, start_new_session, pass_fds)\u001b[0m\n\u001b[0;32m    948\u001b[0m                                 \u001b[0mc2pread\u001b[0m\u001b[1;33m,\u001b[0m \u001b[0mc2pwrite\u001b[0m\u001b[1;33m,\u001b[0m\u001b[1;33m\u001b[0m\u001b[0m\n\u001b[0;32m    949\u001b[0m                                 \u001b[0merrread\u001b[0m\u001b[1;33m,\u001b[0m \u001b[0merrwrite\u001b[0m\u001b[1;33m,\u001b[0m\u001b[1;33m\u001b[0m\u001b[0m\n\u001b[1;32m--> 950\u001b[1;33m                                 restore_signals, start_new_session)\n\u001b[0m\u001b[0;32m    951\u001b[0m         \u001b[1;32mexcept\u001b[0m\u001b[1;33m:\u001b[0m\u001b[1;33m\u001b[0m\u001b[0m\n\u001b[0;32m    952\u001b[0m             \u001b[1;31m# Cleanup if the child failed starting.\u001b[0m\u001b[1;33m\u001b[0m\u001b[1;33m\u001b[0m\u001b[0m\n",
      "\u001b[1;32m/home/mayank/apps/anaconda3/lib/python3.5/subprocess.py\u001b[0m in \u001b[0;36m_execute_child\u001b[1;34m(self, args, executable, preexec_fn, close_fds, pass_fds, cwd, env, startupinfo, creationflags, shell, p2cread, p2cwrite, c2pread, c2pwrite, errread, errwrite, restore_signals, start_new_session)\u001b[0m\n\u001b[0;32m   1542\u001b[0m                             \u001b[1;32melse\u001b[0m\u001b[1;33m:\u001b[0m\u001b[1;33m\u001b[0m\u001b[0m\n\u001b[0;32m   1543\u001b[0m                                 \u001b[0merr_msg\u001b[0m \u001b[1;33m+=\u001b[0m \u001b[1;34m': '\u001b[0m \u001b[1;33m+\u001b[0m \u001b[0mrepr\u001b[0m\u001b[1;33m(\u001b[0m\u001b[0morig_executable\u001b[0m\u001b[1;33m)\u001b[0m\u001b[1;33m\u001b[0m\u001b[0m\n\u001b[1;32m-> 1544\u001b[1;33m                     \u001b[1;32mraise\u001b[0m \u001b[0mchild_exception_type\u001b[0m\u001b[1;33m(\u001b[0m\u001b[0merrno_num\u001b[0m\u001b[1;33m,\u001b[0m \u001b[0merr_msg\u001b[0m\u001b[1;33m)\u001b[0m\u001b[1;33m\u001b[0m\u001b[0m\n\u001b[0m\u001b[0;32m   1545\u001b[0m                 \u001b[1;32mraise\u001b[0m \u001b[0mchild_exception_type\u001b[0m\u001b[1;33m(\u001b[0m\u001b[0merr_msg\u001b[0m\u001b[1;33m)\u001b[0m\u001b[1;33m\u001b[0m\u001b[0m\n\u001b[0;32m   1546\u001b[0m \u001b[1;33m\u001b[0m\u001b[0m\n",
      "\u001b[1;31mFileNotFoundError\u001b[0m: [Errno 2] No such file or directory: 'ping -c 1 127.0.0.1'"
     ]
    }
   ],
   "source": [
    "###################################\n",
    "### TODO ##########################\n",
    "###################################\n",
    "###################################\n",
    "###################################\n",
    "\n",
    "\n",
    "\n",
    "\n",
    "\n",
    "\n",
    "\n",
    "\n",
    "\n",
    "# import sys\n",
    "# from subprocess import Popen, PIPE\n",
    "\n",
    "# # ping\n",
    "# cmd = 'ping -c 1 '\n",
    "# # No Windows\n",
    "# if sys.platform == 'win32':\n",
    "#     cmd = 'ping -n 1 '\n",
    "\n",
    "# # Local just for testing\n",
    "# host = '127.0.0.1'\n",
    "\n",
    "# # Comunicates with another process\n",
    "# # a pipe with the command stdout\n",
    "# py = Popen(cmd + host, stdout=PIPE)\n",
    "\n",
    "# # Shows command output\n",
    "# print (py.stdout.read())"
   ]
  },
  {
   "cell_type": "markdown",
   "metadata": {},
   "source": [
    "The *subprocess* module provides a generic way of running processes with Popen() function which allows communication with the process through operating system pipes.\n",
    "\n",
    "Time\n",
    "-----\n",
    "Python has two modules to handle time:\n",
    "\n",
    "+ *Time*: implements functions that allow using the time generated by the system.\n",
    "+ *Datetime*: implements high-level types to perform date and time operations.\n",
    "\n",
    "Example with time:"
   ]
  },
  {
   "cell_type": "code",
   "execution_count": 24,
   "metadata": {
    "collapsed": false
   },
   "outputs": [
    {
     "name": "stdout",
     "output_type": "stream",
     "text": [
      "time.struct_time(tm_year=2016, tm_mon=8, tm_mday=5, tm_hour=8, tm_min=28, tm_sec=15, tm_wday=4, tm_yday=218, tm_isdst=0)\n",
      "Fri Aug  5 08:28:15 2016\n",
      "1470365895.7122078 -> time.struct_time(tm_year=2016, tm_mon=8, tm_mday=5, tm_hour=2, tm_min=58, tm_sec=15, tm_wday=4, tm_yday=218, tm_isdst=0)\n",
      "1470349695.0 -> time.struct_time(tm_year=2016, tm_mon=8, tm_mday=5, tm_hour=3, tm_min=58, tm_sec=15, tm_wday=4, tm_yday=218, tm_isdst=0)\n",
      "The program took 2915.44115254707 seconds up to now...\n",
      "1 second(s)\n",
      "2 second(s)\n",
      "3 second(s)\n",
      "4 second(s)\n",
      "5 second(s)\n"
     ]
    }
   ],
   "source": [
    "import time\n",
    "\n",
    "# localtime() Returns a date and local time in the form \n",
    "# of a structure called struct_time, which is a \n",
    "# collection with the items: year, month, day, hour, minute,\n",
    "# secund, day of the week, day of the year and e daylight saving time\n",
    "print (time.localtime())\n",
    "\n",
    "# asctime() returns a date and hour with string, according to\n",
    "# operating system configuration\n",
    "print (time.asctime())\n",
    "\n",
    "# time() returns system time in seconds\n",
    "ts1 = time.time()\n",
    "\n",
    "# gmtime() converts seconds to struct_time\n",
    "tt1 = time.gmtime(ts1)\n",
    "print (ts1, '->', tt1)\n",
    "\n",
    "# Adding an hour\n",
    "tt2 = time.gmtime(ts1 + 3600.)\n",
    "\n",
    "# mktime() converts struct_time  to seconds\n",
    "ts2 = time.mktime(tt2)\n",
    "print (ts2, '->', tt2)\n",
    "\n",
    "# clock() returs time since the program started, in seconds\n",
    "print ('The program took', time.clock(), \\\n",
    "    'seconds up to now...')\n",
    "\n",
    "# Counting seconds...\n",
    "for i in range(5):\n",
    "    # sleep() waits the number of seconds specified as parameter\n",
    "    time.sleep(1)\n",
    "    print (i + 1, 'second(s)')"
   ]
  },
  {
   "cell_type": "markdown",
   "metadata": {},
   "source": [
    "In *datetime*, four types are defined for representing time:\n",
    "\n",
    "+ *datetime*: date and time.\n",
    "+ *date*: just date.\n",
    "+ *time*: just time.\n",
    "+ *timedelta*: time diference.\n",
    "\n",
    "Example:"
   ]
  },
  {
   "cell_type": "code",
   "execution_count": 27,
   "metadata": {
    "collapsed": false
   },
   "outputs": [
    {
     "name": "stdout",
     "output_type": "stream",
     "text": [
      "Date: 2020-12-31\n",
      "Hour: 23:59:59\n",
      "How many time to 12/31/2020: 1609 days, 21:13:29.462522\n"
     ]
    }
   ],
   "source": [
    "import datetime\n",
    "\n",
    "# datetime() receives as parameter:\n",
    "# year, month, day, hour, minute, second and \n",
    "# returns an object of type datetime\n",
    "dt = datetime.datetime(2020, 12, 31, 23, 59, 59)\n",
    "\n",
    "# Objects date and time can be created from\n",
    "# a datetime object\n",
    "date = dt.date()\n",
    "hour = dt.time()\n",
    "\n",
    "# How many time to 12/31/2020\n",
    "dd = dt - dt.today()\n",
    "\n",
    "print ('Date:', date)\n",
    "print ('Hour:', hour)\n",
    "print ('How many time to 12/31/2020:', dd)\n"
   ]
  },
  {
   "cell_type": "markdown",
   "metadata": {},
   "source": [
    "Objects of types *date* and *datetime* return dates in ISO format.\n",
    "\n",
    "Regulares expressions\n",
    "--------------------\n",
    "Regular expression is a form of identifying patterns in character strings. In Python, the *re* module provides a syntactic parser that allows the use of such expressions. The patterns are defined by characters that have special meaning to the parser.\n",
    "\n",
    "Main characteres:\n",
    "\n",
    "+ Point (`.`): In standard mode means any character except the newline.\n",
    "+ Circunflex (`^`): In standard mode, means beginning of the string.\n",
    "+ Dollar (`$`): In standard mode, means end of the string.\n",
    "+ Backslash (`\\`): Escape character, allows using special chars as normal chars.\n",
    "+ Brackets (`[]`): Any character of the listed inside the brackets.\n",
    "+ Asterisk (`*`): Zero or more ocurrrences of previous expression.\n",
    "+ Plus sign (`+`): One or more ocurrences of previous expression.\n",
    "+ Question mark (`?`): Zero or one ocurrence of previous expression.\n",
    "+ Braces (`{n}`): n ocurrences of previous expression.\n",
    "+ Vertical bar (`|`): logical “or”.\n",
    "+ Parenthesis (`()`): Delimit a group of expressions.\n",
    "+ `\\d`: Digit. Same as `[0-9]`.\n",
    "+ `\\D`: Non digit. Same as `[^0-9]`.\n",
    "+ `\\s`: Any spacing character (`[ \\t\\n\\r\\f\\v]`).\n",
    "+ `\\S`: Any nonspacing character (`[^ \\t\\n\\r\\f\\v]`).\n",
    "+ `\\w`: Alphanumeric character or underline (`[a-zA-Z0-9_]`).\n",
    "+ `\\W`: Not an Alphanumeric character or underline (`[^a-zA-Z0-9_]`).\n",
    "\n",
    "Exemplos:"
   ]
  },
  {
   "cell_type": "code",
   "execution_count": 28,
   "metadata": {
    "collapsed": false
   },
   "outputs": [
    {
     "name": "stdout",
     "output_type": "stream",
     "text": [
      "Yes, Genesis & Camel -> ['Yes', 'Genesis', 'Camel']\n",
      "Björk -> True\n",
      "björk -> True\n",
      "Biork -> False\n",
      "Bjork -> True\n",
      "bjork -> True\n",
      "The next track is Stairway to Heaven -> The next track is The Rover\n",
      "Tool, Porcupine Tree and NIN -> ['Tool, Porcupine Tree', 'NIN']\n"
     ]
    }
   ],
   "source": [
    "import re\n",
    "\n",
    "# Compile the regular expression using compile()\n",
    "# the compiled regular expression is stored and \n",
    "# can be reused\n",
    "rex = re.compile('\\w+')\n",
    "\n",
    "# Finds the occurrences according to the expression\n",
    "bands = 'Yes, Genesis & Camel'\n",
    "print( bands, '->', rex.findall(bands))\n",
    "\n",
    "# Identify occurrences of Björk (and their variations)\n",
    "bjork = re.compile('[Bb]j[öo]rk')\n",
    "for m in ('Björk', 'björk', 'Biork', 'Bjork', 'bjork'):\n",
    "\n",
    "    # match() finds occurrences at the beginning of the string\n",
    "    # to find at any part of the string, use search()\n",
    "    print (m, '->', bool(bjork.match(m)))\n",
    "\n",
    "# Replacing text\n",
    "text = 'The next track is Stairway to Heaven'\n",
    "print (text, '->', re. sub('[Ss]tairway [Tt]o [Hh]eaven',\n",
    "    'The Rover', text))\n",
    "\n",
    "# Splitting text\n",
    "bands = 'Tool, Porcupine Tree and NIN'\n",
    "print (bands, '->', re.split(',?\\s+and?\\s+', bands))"
   ]
  },
  {
   "cell_type": "markdown",
   "metadata": {},
   "source": [
    "The behaviour of the functions of this module can be changed by options, to treat strings as *unicode*, for instance."
   ]
  },
  {
   "cell_type": "code",
   "execution_count": 1,
   "metadata": {
    "collapsed": false
   },
   "outputs": [
    {
     "data": {
      "text/html": [
       "<style>\n",
       "    @font-face {\n",
       "        font-family: \"Computer Modern\";\n",
       "        src: url('http://mirrors.ctan.org/fonts/cm-unicode/fonts/otf/cmunss.otf');\n",
       "    }\n",
       "    div.cell{\n",
       "        width:800px;\n",
       "        margin-left:16% !important;\n",
       "        margin-right:auto;\n",
       "    }\n",
       "    h1 {\n",
       "        font-family: Helvetica, serif;\n",
       "    }\n",
       "    h4{\n",
       "        margin-top:12px;\n",
       "        margin-bottom: 3px;\n",
       "       }\n",
       "    div.text_cell_render{\n",
       "        font-family: Computer Modern, \"Helvetica Neue\", Arial, Helvetica, Geneva, sans-serif;\n",
       "        line-height: 145%;\n",
       "        font-size: 130%;\n",
       "        width:800px;\n",
       "        margin-left:auto;\n",
       "        margin-right:auto;\n",
       "    }\n",
       "    .CodeMirror{\n",
       "            font-family: \"Source Code Pro\", source-code-pro,Consolas, monospace;\n",
       "    }\n",
       "    .note{\n",
       "            border-bottom: 1px black dotted;\n",
       "    }\n",
       "    .prompt{\n",
       "        display: None;\n",
       "    }\n",
       "    .text_cell_render h5 {\n",
       "        font-weight: 300;\n",
       "        font-size: 16pt;\n",
       "        color: #4057A1;\n",
       "        font-style: italic;\n",
       "        margin-bottom: .5em;\n",
       "        margin-top: 0.5em;\n",
       "        display: block;\n",
       "    }\n",
       "    \n",
       "    .warning{\n",
       "        color: rgb( 240, 20, 20 )\n",
       "        }  \n",
       "</style>\n",
       "<script>\n",
       "    MathJax.Hub.Config({\n",
       "                        TeX: {\n",
       "                           extensions: [\"AMSmath.js\"]\n",
       "                           },\n",
       "                tex2jax: {\n",
       "                    inlineMath: [ ['$','$'], [\"\\\\(\",\"\\\\)\"] ],\n",
       "                    displayMath: [ ['$$','$$'], [\"\\\\[\",\"\\\\]\"] ]\n",
       "                },\n",
       "                displayAlign: 'center', // Change this to 'center' to center equations.\n",
       "                \"HTML-CSS\": {\n",
       "                    styles: {'.MathJax_Display': {\"margin\": 4}}\n",
       "                }\n",
       "        });\n",
       "</script>"
      ],
      "text/plain": [
       "<IPython.core.display.HTML at 0x50f8f98>"
      ]
     },
     "execution_count": 1,
     "metadata": {},
     "output_type": "execute_result"
    }
   ],
   "source": []
  }
 ],
 "metadata": {
  "kernelspec": {
   "display_name": "Python [Root]",
   "language": "python",
   "name": "Python [Root]"
  },
  "language_info": {
   "codemirror_mode": {
    "name": "ipython",
    "version": 3
   },
   "file_extension": ".py",
   "mimetype": "text/x-python",
   "name": "python",
   "nbconvert_exporter": "python",
   "pygments_lexer": "ipython3",
   "version": "3.5.2"
  }
 },
 "nbformat": 4,
 "nbformat_minor": 0
}
