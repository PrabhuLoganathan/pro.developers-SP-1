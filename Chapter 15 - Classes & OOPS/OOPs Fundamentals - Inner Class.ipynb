{
 "cells": [
  {
   "cell_type": "markdown",
   "metadata": {},
   "source": [
    "# The inner class\n",
    "---\n",
    "An inner class or nested class is a defined entirely within the body of another class  Let us do an example:"
   ]
  },
  {
   "cell_type": "code",
   "execution_count": 2,
   "metadata": {
    "collapsed": false
   },
   "outputs": [
    {
     "name": "stdout",
     "output_type": "stream",
     "text": [
      "Guido\n",
      "talking...\n",
      "talking...\n",
      "writing\n"
     ]
    }
   ],
   "source": [
    "class Human:\n",
    " \n",
    "    def __init__(self):\n",
    "        self.name = 'Guido'\n",
    "        self.head = self.Head()\n",
    "#         self.hand = self.Hand()\n",
    "\n",
    "    class Head:\n",
    "        def talk(self):\n",
    "            return 'talking...'\n",
    "    \n",
    "    class Hand:\n",
    "        def writing(self):\n",
    "            print(self.head.talk())\n",
    "            return \"writing\"\n",
    " \n",
    "if __name__ == '__main__':\n",
    "    guido = Human()\n",
    "    print (guido.name)\n",
    "    print (guido.head.talk())\n",
    "    # Bad example misusing the methods\n",
    "    print (guido.Hand.writing(guido))\n"
   ]
  },
  {
   "cell_type": "code",
   "execution_count": null,
   "metadata": {
    "collapsed": true
   },
   "outputs": [],
   "source": []
  }
 ],
 "metadata": {
  "kernelspec": {
   "display_name": "Python 3",
   "language": "python",
   "name": "python3"
  },
  "language_info": {
   "codemirror_mode": {
    "name": "ipython",
    "version": 3
   },
   "file_extension": ".py",
   "mimetype": "text/x-python",
   "name": "python",
   "nbconvert_exporter": "python",
   "pygments_lexer": "ipython3",
   "version": "3.5.2"
  }
 },
 "nbformat": 4,
 "nbformat_minor": 0
}
