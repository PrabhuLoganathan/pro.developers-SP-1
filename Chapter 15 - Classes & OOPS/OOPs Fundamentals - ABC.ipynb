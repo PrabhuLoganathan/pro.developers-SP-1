{
 "cells": [
  {
   "cell_type": "markdown",
   "metadata": {},
   "source": [
    "# ABC\n",
    "----\n",
    "Abstract base classes are a form of interface checking more strict than individual hasattr() checks for particular methods. By defining an abstract base class, you can define a common API for a set of subclasses. This capability is especially useful in situations where a third-party is going to provide implementations, such as with plugins to an application, but can also aid you when working on a large team or with a large code-base where keeping all classes in your head at the same time is difficult or not possible."
   ]
  },
  {
   "cell_type": "markdown",
   "metadata": {},
   "source": [
    "## How ABCs Work\n"
   ]
  },
  {
   "cell_type": "code",
   "execution_count": 2,
   "metadata": {
    "collapsed": false
   },
   "outputs": [
    {
     "ename": "TypeError",
     "evalue": "Can't instantiate abstract class Base with abstract methods bar, foo",
     "output_type": "error",
     "traceback": [
      "\u001b[1;31m---------------------------------------------------------------------------\u001b[0m",
      "\u001b[1;31mTypeError\u001b[0m                                 Traceback (most recent call last)",
      "\u001b[1;32m<ipython-input-2-7733653940c2>\u001b[0m in \u001b[0;36m<module>\u001b[1;34m()\u001b[0m\n\u001b[0;32m     20\u001b[0m \u001b[1;32massert\u001b[0m \u001b[0missubclass\u001b[0m\u001b[1;33m(\u001b[0m\u001b[0mConcrete\u001b[0m\u001b[1;33m,\u001b[0m \u001b[0mBase\u001b[0m\u001b[1;33m)\u001b[0m\u001b[1;33m\u001b[0m\u001b[0m\n\u001b[0;32m     21\u001b[0m \u001b[1;33m\u001b[0m\u001b[0m\n\u001b[1;32m---> 22\u001b[1;33m \u001b[0mb\u001b[0m \u001b[1;33m=\u001b[0m \u001b[0mBase\u001b[0m\u001b[1;33m(\u001b[0m\u001b[1;33m)\u001b[0m\u001b[1;33m\u001b[0m\u001b[0m\n\u001b[0m\u001b[0;32m     23\u001b[0m \u001b[0mc\u001b[0m \u001b[1;33m=\u001b[0m \u001b[0mConcrete\u001b[0m\u001b[1;33m(\u001b[0m\u001b[1;33m)\u001b[0m\u001b[1;33m\u001b[0m\u001b[0m\n",
      "\u001b[1;31mTypeError\u001b[0m: Can't instantiate abstract class Base with abstract methods bar, foo"
     ]
    }
   ],
   "source": [
    "from abc import ABCMeta, abstractmethod\n",
    "\n",
    "\n",
    "class Base(metaclass=ABCMeta):\n",
    "#     __metaclass__=ABCMeta\n",
    "    @abstractmethod\n",
    "    def foo(self):\n",
    "        pass\n",
    "\n",
    "    @abstractmethod\n",
    "    def bar(self):\n",
    "        pass\n",
    "\n",
    "class Concrete(Base):\n",
    "    def foo(self):\n",
    "        pass\n",
    "\n",
    "    # We forget to declare `bar`().\n",
    "\n",
    "assert issubclass(Concrete, Base)\n",
    "\n",
    "b = Base()\n",
    "c = Concrete()"
   ]
  },
  {
   "cell_type": "markdown",
   "metadata": {},
   "source": [
    "## Registering the child class\n",
    "------------"
   ]
  },
  {
   "cell_type": "code",
   "execution_count": 3,
   "metadata": {
    "collapsed": false
   },
   "outputs": [
    {
     "name": "stdout",
     "output_type": "stream",
     "text": [
      "Subclass: True\n",
      "Instance: True\n",
      "in child->bar\n"
     ]
    }
   ],
   "source": [
    "from abc import ABCMeta, abstractmethod\n",
    "\n",
    "\n",
    "class Base(metaclass=ABCMeta):\n",
    "    @abstractmethod\n",
    "    def foo(self):\n",
    "        pass\n",
    "\n",
    "    @abstractmethod\n",
    "    def bar(self):\n",
    "        pass\n",
    "\n",
    "class Concrete(object):\n",
    "    def foo(self):\n",
    "        print(\"in child -> foo\")\n",
    "    \n",
    "    def bar(self):\n",
    "        print(\"in child->bar\")\n",
    "\n",
    "Base.register(Concrete)\n",
    "\n",
    "if __name__ == '__main__':\n",
    "    print ('Subclass:', issubclass(Concrete, Base))\n",
    "    print ('Instance:', isinstance(Concrete(), Base))\n",
    "    c = Concrete()\n",
    "    c.bar()"
   ]
  },
  {
   "cell_type": "code",
   "execution_count": 4,
   "metadata": {
    "collapsed": false
   },
   "outputs": [
    {
     "name": "stdout",
     "output_type": "stream",
     "text": [
      "Subclass: True\n",
      "Instance: True\n"
     ]
    },
    {
     "ename": "AttributeError",
     "evalue": "'Concrete' object has no attribute 'bar'",
     "output_type": "error",
     "traceback": [
      "\u001b[1;31m---------------------------------------------------------------------------\u001b[0m",
      "\u001b[1;31mAttributeError\u001b[0m                            Traceback (most recent call last)",
      "\u001b[1;32m<ipython-input-4-dbdbb708df16>\u001b[0m in \u001b[0;36m<module>\u001b[1;34m()\u001b[0m\n\u001b[0;32m     23\u001b[0m     \u001b[0mprint\u001b[0m \u001b[1;33m(\u001b[0m\u001b[1;34m'Instance:'\u001b[0m\u001b[1;33m,\u001b[0m \u001b[0misinstance\u001b[0m\u001b[1;33m(\u001b[0m\u001b[0mConcrete\u001b[0m\u001b[1;33m(\u001b[0m\u001b[1;33m)\u001b[0m\u001b[1;33m,\u001b[0m \u001b[0mBase\u001b[0m\u001b[1;33m)\u001b[0m\u001b[1;33m)\u001b[0m\u001b[1;33m\u001b[0m\u001b[0m\n\u001b[0;32m     24\u001b[0m     \u001b[0mc\u001b[0m \u001b[1;33m=\u001b[0m \u001b[0mConcrete\u001b[0m\u001b[1;33m(\u001b[0m\u001b[1;33m)\u001b[0m\u001b[1;33m\u001b[0m\u001b[0m\n\u001b[1;32m---> 25\u001b[1;33m     \u001b[0mc\u001b[0m\u001b[1;33m.\u001b[0m\u001b[0mbar\u001b[0m\u001b[1;33m(\u001b[0m\u001b[1;33m)\u001b[0m\u001b[1;33m\u001b[0m\u001b[0m\n\u001b[0m",
      "\u001b[1;31mAttributeError\u001b[0m: 'Concrete' object has no attribute 'bar'"
     ]
    }
   ],
   "source": [
    "### Problem\n",
    "from abc import ABCMeta, abstractmethod\n",
    "\n",
    "\n",
    "class Base(metaclass=ABCMeta):\n",
    "    @abstractmethod\n",
    "    def foo(self):\n",
    "        pass\n",
    "\n",
    "    @abstractmethod\n",
    "    def bar(self):\n",
    "        pass\n",
    "\n",
    "class Concrete(object):\n",
    "    def foo(self):\n",
    "        print(\"in child -> foo\")\n",
    "    \n",
    "\n",
    "Base.register(Concrete)\n",
    "\n",
    "if __name__ == '__main__':\n",
    "    print ('Subclass:', issubclass(Concrete, Base))\n",
    "    print ('Instance:', isinstance(Concrete(), Base))\n",
    "    c = Concrete()\n",
    "    c.bar()"
   ]
  },
  {
   "cell_type": "markdown",
   "metadata": {},
   "source": [
    "## Implementation Through Subclassing\n",
    "----"
   ]
  },
  {
   "cell_type": "code",
   "execution_count": 6,
   "metadata": {
    "collapsed": false
   },
   "outputs": [
    {
     "name": "stdout",
     "output_type": "stream",
     "text": [
      "Subclass: True\n",
      "Instance: True\n",
      "in child -> bar\n"
     ]
    }
   ],
   "source": [
    "### Problem\n",
    "from abc import ABCMeta, abstractmethod\n",
    "\n",
    "\n",
    "class Base(metaclass=ABCMeta):\n",
    "    @abstractmethod\n",
    "    def foo(self):\n",
    "        pass\n",
    "\n",
    "    @abstractmethod\n",
    "    def bar(self):\n",
    "        pass\n",
    "\n",
    "\n",
    "class Concrete(Base):\n",
    "    def foo(self):\n",
    "        print(\"in child -> foo\")\n",
    "    \n",
    "    def bar(self):\n",
    "        print(\"in child -> bar\")\n",
    "    \n",
    "    \n",
    "if __name__ == '__main__':\n",
    "    print ('Subclass:', issubclass(Concrete, Base))\n",
    "    print ('Instance:', isinstance(Concrete(), Base))\n",
    "    c = Concrete()\n",
    "    c.bar()"
   ]
  },
  {
   "cell_type": "code",
   "execution_count": null,
   "metadata": {
    "collapsed": false
   },
   "outputs": [],
   "source": [
    "from abc import ABCMeta, abstractmethod\n",
    "\n",
    "\n",
    "class Base(metaclass=ABCMeta):\n",
    "    @abstractmethod\n",
    "    def foo(self):\n",
    "        pass\n",
    "\n",
    "    @abstractmethod\n",
    "    def bar(self):\n",
    "        pass\n",
    "\n",
    "class Concrete(Base):\n",
    "    def foo(self):\n",
    "        print(\"in child -> foo\")\n",
    "    \n",
    "    def bar(self):\n",
    "        print(\"in child->bar\")\n",
    "        \n",
    "        \n",
    "if __name__ == '__main__':\n",
    "    \n",
    "    print ('Subclass:', issubclass(Concrete, Base))\n",
    "    print ('Instance:', isinstance(Concrete(), Base))\n",
    "    c = Concrete()\n",
    "    c.bar()"
   ]
  },
  {
   "cell_type": "markdown",
   "metadata": {},
   "source": [
    "## Abstract Properties\n",
    "----\n",
    "If your API specification includes attributes in addition to methods, you can require the attributes in concrete classes by defining them with @abstractproperty"
   ]
  },
  {
   "cell_type": "code",
   "execution_count": 7,
   "metadata": {
    "collapsed": false
   },
   "outputs": [
    {
     "name": "stdout",
     "output_type": "stream",
     "text": [
      "ERROR: Can't instantiate abstract class Base with abstract methods value\n",
      "Implementation.value: concrete property\n"
     ]
    }
   ],
   "source": [
    "import abc\n",
    "\n",
    "class Base(metaclass=ABCMeta):\n",
    "    \n",
    "    @abc.abstractproperty\n",
    "    def value(self):\n",
    "        return 'Should never get here'\n",
    "\n",
    "\n",
    "class Implementation(Base):\n",
    "    @property\n",
    "    def value(self):\n",
    "        return 'concrete property'\n",
    "\n",
    "if __name__ == '__main__':\n",
    "    try:\n",
    "        b = Base()\n",
    "        print ('Base.value:', b.value)\n",
    "    except Exception as err:\n",
    "        print ('ERROR:', str(err))\n",
    "\n",
    "    i = Implementation()\n",
    "    print ('Implementation.value:', i.value)"
   ]
  },
  {
   "cell_type": "code",
   "execution_count": 10,
   "metadata": {
    "collapsed": false
   },
   "outputs": [
    {
     "name": "stdout",
     "output_type": "stream",
     "text": [
      "Implementation.value: Default value\n",
      "Changed value: New value\n"
     ]
    }
   ],
   "source": [
    "import abc\n",
    "\n",
    "class Base(metaclass=abc.ABCMeta):\n",
    "    \n",
    "    @abc.abstractproperty\n",
    "    def value(self):\n",
    "        return 'Should never see this'\n",
    "    \n",
    "    @value.setter\n",
    "    def value(self, newvalue):\n",
    "        return\n",
    "\n",
    "\n",
    "class Implementation(Base):\n",
    "    \n",
    "    _value = 'Default value'\n",
    "    \n",
    "    @property\n",
    "    def value(self):\n",
    "        return self._value\n",
    "\n",
    "    @value.setter\n",
    "    def value(self, newvalue):\n",
    "        self._value = newvalue\n",
    "\n",
    "\n",
    "i = Implementation()\n",
    "print ('Implementation.value:', i.value)\n",
    "\n",
    "i.value = 'New value'\n",
    "print ('Changed value:', i.value)"
   ]
  },
  {
   "cell_type": "markdown",
   "metadata": {},
   "source": [
    "#### NOTE #####\n",
    "For Python 2, that means assigning it to the __metaclass__ attribute on the class:\n",
    "```python\n",
    "class CVIterator(object):\n",
    "    __metaclass__ = ABCMeta\n",
    "\n",
    "    def __init__(self):\n",
    "        self.n = None # the value of n is obtained in the fit method\n",
    "```\n",
    "In Python 3, you'd use the metaclass=... syntax when defining the class:\n",
    "```python\n",
    "class CVIterator(metaclass=ABCMeta):\n",
    "    def __init__(self):\n",
    "        self.n = None # the value of n is obtained in the fit method\n",
    "```"
   ]
  },
  {
   "cell_type": "code",
   "execution_count": null,
   "metadata": {
    "collapsed": true
   },
   "outputs": [],
   "source": []
  }
 ],
 "metadata": {
  "anaconda-cloud": {},
  "kernelspec": {
   "display_name": "Python [Root]",
   "language": "python",
   "name": "Python [Root]"
  },
  "language_info": {
   "codemirror_mode": {
    "name": "ipython",
    "version": 3
   },
   "file_extension": ".py",
   "mimetype": "text/x-python",
   "name": "python",
   "nbconvert_exporter": "python",
   "pygments_lexer": "ipython3",
   "version": "3.5.2"
  }
 },
 "nbformat": 4,
 "nbformat_minor": 0
}
