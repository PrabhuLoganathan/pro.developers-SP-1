{
 "cells": [
  {
   "cell_type": "markdown",
   "metadata": {},
   "source": [
    "Chapter 9: Scope of names\n",
    "=============================\n",
    "_____________________________\n",
    "\n",
    "The scope of names in Python are maintained by *Namespaces*, which are dictionaries that list the names of the objects (references) and the objects themselves.\n",
    "\n",
    "Normally, the names are defined in two dictionaries, which can be accessed through the functions `locals()` and `globals()`. These dictionaries are updated dynamically at <span class=\"note\" title=\"Although the dictionaries returned by locals() and globals() can be changed directly, this should be avoided because it can have undesirable effects.\">runtime</span>.\n",
    "\n",
    "![Namespaces](files/bpyfd_diags7.png)\n",
    "\n",
    "Global variables can be overshadowed by local variables (because the local scope is consulted before the global scope). To avoid this, you must declare the variable as global in the local scope.\n",
    "\n",
    "example:"
   ]
  },
  {
   "cell_type": "code",
   "execution_count": 1,
   "metadata": {
    "collapsed": false
   },
   "outputs": [
    {
     "name": "stdout",
     "output_type": "stream",
     "text": [
      "21\n"
     ]
    }
   ],
   "source": [
    "def addlist(lists):\n",
    "    \"\"\"\n",
    "    Add lists of lists, recursively\n",
    "    the result is global\n",
    "    \"\"\"\n",
    "    global add\n",
    "    \n",
    "    for item in lists:\n",
    "        if isinstance(item, list): # If item type is list\n",
    "            addlist(item)\n",
    "        else:\n",
    "            add += item\n",
    "\n",
    "add = 0\n",
    "addlist([[1, 2], [3, 4, 5], 6])\n",
    "\n",
    "print (add )# 21"
   ]
  },
  {
   "cell_type": "markdown",
   "metadata": {},
   "source": [
    "Using global variables is not considered a good development practice, as they make the system harder to understand, so it is better to avoid their use. The same applies to overshadowing variables."
   ]
  }
 ],
 "metadata": {
  "anaconda-cloud": {},
  "kernelspec": {
   "display_name": "Python 3",
   "language": "python",
   "name": "python3"
  },
  "language_info": {
   "codemirror_mode": {
    "name": "ipython",
    "version": 3
   },
   "file_extension": ".py",
   "mimetype": "text/x-python",
   "name": "python",
   "nbconvert_exporter": "python",
   "pygments_lexer": "ipython3",
   "version": "3.5.2"
  }
 },
 "nbformat": 4,
 "nbformat_minor": 0
}
