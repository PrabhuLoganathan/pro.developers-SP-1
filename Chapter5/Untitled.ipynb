{
 "cells": [
  {
   "cell_type": "markdown",
   "metadata": {},
   "source": [
    "Chapter 5: Types\n",
    "=============================\n",
    "_____________________________\n",
    "Variables in the Python interpreter are created by assignment and destroyed by the garbage collector, when there are no more references to them.\n",
    "\n",
    "Variable names must start with a letter or underscore (`_`) and be followed by letters, digits or underscores (`_`).  Uppercase and lowercase letters are considered different.\n",
    "\n",
    "There are several pre-defined simple types of data in Python, such as:\n",
    "\n",
    "+ Numbers (integer, real, complex, ... )\n",
    "+ Text\n",
    "\n",
    "Furthermore, there are types that function as collections. The main ones are:\n",
    "\n",
    "+ List\n",
    "+ Tuple\n",
    "+ Dictionary\n",
    "\n",
    "Python types can be:\n",
    "\n",
    "+ Mutable: allow the contents of the variables to be changed.\n",
    "+ Immutable: do not allow the contents of variables to be changed.\n",
    "\n",
    "In Python, variable names are references that can be changed at execution time.\n",
    "\n",
    "The most common types and routines are implemented in the form of *builtins*, i.e. they are always available at runtime, without the need to import any library.\n",
    "\n",
    "Numbers\n",
    "-------\n",
    "Python provides some numeric types as *builtins*:\n",
    "\n",
    "+ Integer (*int*): i = 1\n",
    "+ Floating Point real (*float*): f = 3.14\n",
    "+ Complex (*complex*): c = 3 + 4j\n",
    "\n",
    "In addition to the conventional integers, there are also long integers, whose dimensions are arbitrary and limited by the available memory. Conversions between integer and long are performed automatically. The builtin function `int()` can be used to convert other types to integer, including base changes.\n",
    "\n",
    "Example:"
   ]
  },
  {
   "cell_type": "code",
   "execution_count": null,
   "metadata": {
    "collapsed": true
   },
   "outputs": [],
   "source": []
  }
 ],
 "metadata": {
  "anaconda-cloud": {},
  "kernelspec": {
   "display_name": "Python [Root]",
   "language": "python",
   "name": "Python [Root]"
  },
  "language_info": {
   "codemirror_mode": {
    "name": "ipython",
    "version": 3
   },
   "file_extension": ".py",
   "mimetype": "text/x-python",
   "name": "python",
   "nbconvert_exporter": "python",
   "pygments_lexer": "ipython3",
   "version": "3.5.2"
  }
 },
 "nbformat": 4,
 "nbformat_minor": 0
}
