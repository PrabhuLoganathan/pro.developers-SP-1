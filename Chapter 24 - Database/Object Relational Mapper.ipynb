{
 "cells": [
  {
   "cell_type": "markdown",
   "metadata": {},
   "source": [
    "# Object Relational Mapper using SQLAlchemy\n",
    "---\n",
    "SQLAlchemy is the Python SQL toolkit and Object Relational Mapper that gives application developers the full power and flexibility of SQL.\n",
    "\n",
    "It provides a full suite of well known enterprise-level persistence patterns, designed for efficient and high-performing database access, adapted into a simple and Pythonic domain language.\n",
    "\n",
    "## SQLALCHEMY'S PHILOSOPHY\n",
    "\n",
    "SQL databases behave less like object collections the more size and performance start to matter; object collections behave less like tables and rows the more abstraction starts to matter. SQLAlchemy aims to accommodate both of these principles.\n",
    "\n",
    "SQLAlchemy considers the database to be a relational algebra engine, not just a collection of tables. Rows can be selected from not only tables but also joins and other select statements; any of these units can be composed into a larger structure. SQLAlchemy's expression language builds on this concept from its core.\n",
    "\n",
    "SQLAlchemy is most famous for its object-relational mapper (ORM), an optional component that provides the data mapper pattern, where classes can be mapped to the database in open ended, multiple ways - allowing the object model and database schema to develop in a cleanly decoupled way from the beginning.\n",
    "\n",
    "SQLAlchemy's overall approach to these problems is entirely different from that of most other SQL / ORM tools, rooted in a so-called complimentarity- oriented approach; instead of hiding away SQL and object relational details behind a wall of automation, all processes are fully exposed within a series of composable, transparent tools. The library takes on the job of automating redundant tasks while the developer remains in control of how the database is organized and how SQL is constructed.\n"
   ]
  },
  {
   "cell_type": "markdown",
   "metadata": {},
   "source": [
    "## SQLAlchemy Object Relational Mapper\n",
    "----\n",
    "The SQLAlchemy Object Relational Mapper presents a method of associating user-defined Python classes with database tables, and instances of those classes (objects) with rows in their corresponding tables. It includes a system that transparently synchronizes all changes in state between objects and their related rows, called a unit of work, as well as a system for expressing database queries in terms of the user defined classes and their defined relationships between each other.\n",
    "\n",
    "The ORM is in contrast to the SQLAlchemy Expression Language, upon which the ORM is constructed. Whereas the SQL Expression Language, introduced in SQL Expression Language Tutorial, presents a system of representing the primitive constructs of the relational database directly without opinion, the ORM presents a high level and abstracted pattern of usage, which itself is an example of applied usage of the Expression Language.\n",
    "\n",
    "While there is overlap among the usage patterns of the ORM and the Expression Language, the similarities are more superficial than they may at first appear. One approaches the structure and content of data from the perspective of a user-defined domain model which is transparently persisted and refreshed from its underlying storage model. The other approaches it from the perspective of literal schema and SQL expression representations which are explicitly composed into messages consumed individually by the database.\n",
    "\n",
    "A successful application may be constructed using the Object Relational Mapper exclusively. In advanced situations, an application constructed with the ORM may make occasional usage of the Expression Language directly in certain areas where specific database interactions are required."
   ]
  },
  {
   "cell_type": "code",
   "execution_count": 1,
   "metadata": {
    "collapsed": false
   },
   "outputs": [
    {
     "name": "stdout",
     "output_type": "stream",
     "text": [
      "1.0.13\n"
     ]
    }
   ],
   "source": [
    "import sqlalchemy\n",
    "print(sqlalchemy.__version__)"
   ]
  },
  {
   "cell_type": "markdown",
   "metadata": {},
   "source": [
    "## Connecting"
   ]
  },
  {
   "cell_type": "code",
   "execution_count": 7,
   "metadata": {
    "collapsed": true
   },
   "outputs": [],
   "source": [
    "from sqlalchemy import create_engine\n",
    "engine = create_engine('sqlite:///:memory:', echo=True)"
   ]
  },
  {
   "cell_type": "markdown",
   "metadata": {},
   "source": [
    "we will use an in-memory-only SQLite database. To connect we use create_engine():\n",
    "\n",
    "The echo flag is a shortcut to setting up SQLAlchemy logging, which is accomplished via Python’s standard logging module. With it enabled, we’ll see all the generated SQL produced. If you are working through this tutorial and want less output generated, set it to False. This tutorial will format the SQL behind a popup window so it doesn’t get in our way; just click the “SQL” links to see what’s being generated.\n",
    "\n",
    "The return value of `create_engine()` is an instance of Engine, and it represents the core interface to the database, adapted through a dialect that handles the details of the database and DBAPI in use. In this case the SQLite dialect will interpret instructions to the Python built-in sqlite3 module.\n",
    "\n",
    "The first time a method like Engine.execute() or Engine.connect() is called, the Engine establishes a real DBAPI connection to the database, which is then used to emit the SQL. When using the ORM, we typically don’t use the Engine directly once created; instead, it’s used behind the scenes by the ORM as we’ll see shortly."
   ]
  },
  {
   "cell_type": "markdown",
   "metadata": {},
   "source": [
    "## Declare a Mapping\n",
    "\n",
    "When using the ORM, the configurational process starts by describing the database tables we’ll be dealing with, and then by defining our own classes which will be mapped to those tables. In modern SQLAlchemy, these two tasks are usually performed together, using a system known as Declarative, which allows us to create classes that include directives to describe the actual database table they will be mapped to.\n",
    "\n",
    "Classes mapped using the Declarative system are defined in terms of a base class which maintains a catalog of classes and tables relative to that base - this is known as the declarative base class. Our application will usually have just one instance of this base in a commonly imported module. We create the base class using the declarative_base() function, as follows:"
   ]
  },
  {
   "cell_type": "code",
   "execution_count": 4,
   "metadata": {
    "collapsed": true
   },
   "outputs": [],
   "source": [
    "from sqlalchemy.ext.declarative import declarative_base\n",
    "\n",
    "Base = declarative_base()"
   ]
  },
  {
   "cell_type": "markdown",
   "metadata": {},
   "source": [
    "Now that we have a “base”, we can define any number of mapped classes in terms of it. We will start with just a single table called users, which will store records for the end-users using our application. A new class called User will be the class to which we map this table. Within the class, we define details about the table to which we’ll be mapping, primarily the table name, and names and datatypes of columns:"
   ]
  },
  {
   "cell_type": "code",
   "execution_count": 5,
   "metadata": {
    "collapsed": false
   },
   "outputs": [],
   "source": [
    "from sqlalchemy import Column, Integer, String\n",
    "\n",
    "\n",
    "class User(Base):\n",
    "    __tablename__ = 'users'\n",
    "\n",
    "    id = Column(Integer, primary_key=True)\n",
    "    name = Column(String)\n",
    "    fullname = Column(String)\n",
    "    password = Column(String)\n",
    "\n",
    "    def __repr__(self):\n",
    "        return \"<User(name='%s', fullname='%s', password='%s')>\" % (self.name, self.fullname, self.password)"
   ]
  },
  {
   "cell_type": "markdown",
   "metadata": {},
   "source": [
    "A class using Declarative at a minimum needs a \\__tablename\\__ attribute, and at least one Column which is part of a primary key [1]. SQLAlchemy never makes any assumptions by itself about the table to which a class refers, including that it has no built-in conventions for names, datatypes, or constraints. But this doesn’t mean boilerplate is required; instead, you’re encouraged to create your own automated conventions using helper functions and mixin classes, which is described in detail at Mixin and Custom Base Classes.\n",
    "\n",
    "When our class is constructed, Declarative replaces all the Column objects with special Python accessors known as descriptors; this is a process known as instrumentation. The “instrumented” mapped class will provide us with the means to refer to our table in a SQL context as well as to persist and load the values of columns from the database.\n",
    "\n",
    "Outside of what the mapping process does to our class, the class remains otherwise mostly a normal Python class, to which we can define any number of ordinary attributes and methods needed by our application."
   ]
  },
  {
   "cell_type": "markdown",
   "metadata": {},
   "source": [
    "## Create a Schema\n",
    "With our User class constructed via the Declarative system, we have defined information about our table, known as table metadata. The object used by SQLAlchemy to represent this information for a specific table is called the Table object, and here Declarative has made one for us. We can see this object by inspecting the \\__table\\__ attribute:"
   ]
  },
  {
   "cell_type": "code",
   "execution_count": 8,
   "metadata": {
    "collapsed": false
   },
   "outputs": [
    {
     "name": "stdout",
     "output_type": "stream",
     "text": [
      "users\n"
     ]
    }
   ],
   "source": [
    "print(User.__table__)"
   ]
  },
  {
   "cell_type": "code",
   "execution_count": 6,
   "metadata": {
    "collapsed": false
   },
   "outputs": [
    {
     "name": "stdout",
     "output_type": "stream",
     "text": [
      "users\n",
      "Mayank Johri\n"
     ]
    }
   ],
   "source": [
    "from sqlalchemy.ext.declarative import declarative_base\n",
    "\n",
    "Base = declarative_base()\n",
    "from sqlalchemy import Column, Integer, String\n",
    "\n",
    "\n",
    "class User(Base):\n",
    "    __tablename__ = 'users'\n",
    "\n",
    "    id = Column(Integer, primary_key=True)\n",
    "    name = Column(String)\n",
    "    fullname = Column(String)\n",
    "    password = Column(String)\n",
    "\n",
    "    def __init__(self, name, fullname, password):\n",
    "        self.name = name\n",
    "        self.fullname = fullname\n",
    "        self.password = password\n",
    "        \n",
    "    def __repr__(self):\n",
    "        return \"<User(name='%s', fullname='%s', password='%s')>\" % (self.name, self.fullname, self.password)\n",
    "\n",
    "\n",
    "if __name__ == \"__main__\":\n",
    "    print(User.__table__)\n",
    "    user = User(\"Mayank\", \"Mayank Johri\", \"password\")\n",
    "    print(user.fullname)"
   ]
  },
  {
   "cell_type": "markdown",
   "metadata": {
    "collapsed": true
   },
   "source": [
    "## Creating a Session\n",
    "\n",
    "The ORM’s “handle” to the database is the Session. When we first set up the application, at the same level as our `create_engine()` statement, we define a Session class which will serve as a factory for new Session objects:"
   ]
  },
  {
   "cell_type": "code",
   "execution_count": 9,
   "metadata": {
    "collapsed": false
   },
   "outputs": [],
   "source": [
    "from sqlalchemy.orm import sessionmaker\n",
    "Session = sessionmaker(bind=engine)\n",
    "session = Session()"
   ]
  },
  {
   "cell_type": "markdown",
   "metadata": {
    "collapsed": true
   },
   "source": [
    "This custom-made Session class will create new Session objects which are bound to our database. Other transactional characteristics may be defined when calling `sessionmaker` as well; these are described in a later chapter. Then, whenever you need to have a conversation with the database, you instantiate a Session:"
   ]
  },
  {
   "cell_type": "code",
   "execution_count": 16,
   "metadata": {
    "collapsed": true
   },
   "outputs": [],
   "source": [
    "session_dec = Session()"
   ]
  },
  {
   "cell_type": "markdown",
   "metadata": {},
   "source": [
    "The above Session is associated with our SQLite-enabled Engine, but it hasn’t opened any connections yet. When it’s first used, it retrieves a connection from a pool of connections maintained by the Engine, and holds onto it until we commit all changes and/or close the session object."
   ]
  },
  {
   "cell_type": "markdown",
   "metadata": {},
   "source": [
    "## Use the Session\n",
    "---\n",
    "In this section you are going to insert, delete, update and query database objects using the session created in the previous section.\n",
    "\n",
    "### Pre-requisites"
   ]
  },
  {
   "cell_type": "code",
   "execution_count": 1,
   "metadata": {
    "collapsed": false
   },
   "outputs": [
    {
     "ename": "NameError",
     "evalue": "name 'orm' is not defined",
     "output_type": "error",
     "traceback": [
      "\u001b[1;31m---------------------------------------------------------------------------\u001b[0m",
      "\u001b[1;31mNameError\u001b[0m                                 Traceback (most recent call last)",
      "\u001b[1;32m<ipython-input-1-0b32f56b9151>\u001b[0m in \u001b[0;36m<module>\u001b[1;34m()\u001b[0m\n\u001b[0;32m      8\u001b[0m     \u001b[1;32mpass\u001b[0m\u001b[1;33m\u001b[0m\u001b[0m\n\u001b[0;32m      9\u001b[0m \u001b[1;33m\u001b[0m\u001b[0m\n\u001b[1;32m---> 10\u001b[1;33m orm.mapper(Page, page_table, properties={\n\u001b[0m\u001b[0;32m     11\u001b[0m     \u001b[1;34m'comments'\u001b[0m\u001b[1;33m:\u001b[0m\u001b[0morm\u001b[0m\u001b[1;33m.\u001b[0m\u001b[0mrelation\u001b[0m\u001b[1;33m(\u001b[0m\u001b[0mComment\u001b[0m\u001b[1;33m,\u001b[0m \u001b[0mbackref\u001b[0m\u001b[1;33m=\u001b[0m\u001b[1;34m'page'\u001b[0m\u001b[1;33m)\u001b[0m\u001b[1;33m,\u001b[0m\u001b[1;33m\u001b[0m\u001b[0m\n\u001b[0;32m     12\u001b[0m     \u001b[1;34m'tags'\u001b[0m\u001b[1;33m:\u001b[0m\u001b[0morm\u001b[0m\u001b[1;33m.\u001b[0m\u001b[0mrelation\u001b[0m\u001b[1;33m(\u001b[0m\u001b[0mTag\u001b[0m\u001b[1;33m,\u001b[0m \u001b[0msecondary\u001b[0m\u001b[1;33m=\u001b[0m\u001b[0mpagetag_table\u001b[0m\u001b[1;33m)\u001b[0m\u001b[1;33m\u001b[0m\u001b[0m\n",
      "\u001b[1;31mNameError\u001b[0m: name 'orm' is not defined"
     ]
    }
   ],
   "source": [
    "class Page(object):\n",
    "    pass\n",
    "\n",
    "class Comment(object):\n",
    "    pass\n",
    "\n",
    "class Tag(object):\n",
    "    pass\n",
    "\n",
    "orm.mapper(Page, page_table, properties={\n",
    "    'comments':orm.relation(Comment, backref='page'),\n",
    "    'tags':orm.relation(Tag, secondary=pagetag_table)\n",
    "})\n",
    "orm.mapper(Comment, comment_table)\n",
    "orm.mapper(Tag, tag_table)\n",
    "\n",
    "\n",
    "from sqlalchemy import orm\n",
    "from sqlalchemy import create_engine\n",
    "\n",
    "# Create an engine and create all the tables we need\n",
    "engine = create_engine('sqlite:///:memory:', echo=True)\n",
    "model.metadata.bind = engine\n",
    "model.metadata.create_all()\n",
    "\n",
    "# Set up the session\n",
    "sm = orm.sessionmaker(bind=engine, autoflush=True, autocommit=False,\n",
    "    expire_on_commit=True)\n",
    "session = orm.scoped_session(sm)"
   ]
  },
  {
   "cell_type": "markdown",
   "metadata": {},
   "source": [
    "### Insert"
   ]
  },
  {
   "cell_type": "markdown",
   "metadata": {},
   "source": [
    "### Adding and Updating Objects\n",
    "\n",
    "To persist our User object, we add() it to our Session:\n"
   ]
  },
  {
   "cell_type": "code",
   "execution_count": 10,
   "metadata": {
    "collapsed": false
   },
   "outputs": [],
   "source": [
    "ed_user = User(name='ed', fullname='Ed Jones', password='edspassword')\n",
    "session.add(ed_user)"
   ]
  },
  {
   "cell_type": "markdown",
   "metadata": {},
   "source": [
    "> Check examples from 1 to 4"
   ]
  },
  {
   "cell_type": "code",
   "execution_count": null,
   "metadata": {
    "collapsed": true
   },
   "outputs": [],
   "source": []
  },
  {
   "cell_type": "code",
   "execution_count": null,
   "metadata": {
    "collapsed": true
   },
   "outputs": [],
   "source": []
  },
  {
   "cell_type": "code",
   "execution_count": null,
   "metadata": {
    "collapsed": true
   },
   "outputs": [],
   "source": []
  },
  {
   "cell_type": "code",
   "execution_count": null,
   "metadata": {
    "collapsed": true
   },
   "outputs": [],
   "source": [
    "\n",
    "\n",
    "Import the session object from the object_test module:\n",
    "\n",
    ">>> from object_test import session\n",
    "\n",
    "Now import the model module and create a new page:\n",
    "\n",
    ">>> import model\n",
    "\n",
    ">>> test_page = model.Page()\n",
    ">>> test_page.title = u'Test Page'\n",
    ">>> test_page.content = u'Test content'\n",
    ">>> test_page.title\n",
    "u'Test Page'\n",
    "\n",
    "Add the object to the session:\n",
    "\n",
    ">>> session.add(test_page)\n",
    ">>> print test_page.id\n",
    "None\n",
    "\n",
    "At this point the test_page object is known to SQLAlchemy, but not to the database. To send it to the database, a flush operation can be forced:\n",
    "\n",
    ">>> session.flush()\n",
    ">>> print test_page.id\n",
    "1\n",
    "\n",
    "Now let’s commit the changes:\n",
    "\n",
    ">>> session.commit()\n",
    "\n",
    "SQLAlchemy sends the COMMIT statement that permanently commits the flushed changes and ends the transaction.\n",
    "Delete\n",
    "\n",
    "To delete the test_page object from the database you would use:\n",
    "\n",
    ">>> session.delete(test_page)\n",
    ">>> session.flush()\n",
    "\n",
    "At this point you can either commit the transaction or do a rollback. Let’s do a rollback this time:\n",
    "\n",
    ">>> session.rollback()\n",
    "\n",
    "SQLAlchemy sends a ROLLBACK statement to the database.\n",
    "Query\n",
    "\n",
    "Queries are performed with query objects that are created from the session. The simplest way to create and use a query object is like this:\n",
    "\n",
    ">>> page_q = session.query(model.Page)\n",
    ">>> for page in page_q:\n",
    "...     print page.title\n",
    "Test Page\n",
    "\n",
    "Try the following statements and observe the SQL queries sent to the database by SQLAlchemy:\n",
    "\n",
    ">>> page_q.all()\n",
    "\n",
    ">>> page = page_q.first()\n",
    ">>> page.title\n",
    "\n",
    ">>> page_q[2:5]\n",
    "\n",
    ">>> page_q.get(1)\n",
    "\n",
    "Working with Objects\n",
    "\n",
    "Now let’s think about how you could add a comment to a page. One approach would be to insert a new row in the comment table using the SQL Expression API, ensuring that the pageid field contained the value 1 so that the comment was associated with the correct page via a foreign key. The Object-Relational API provides a much better approach:\n",
    "\n",
    ">>> comment1 = model.Comment()\n",
    ">>> comment1.name= u'James'\n",
    ">>> comment1.email = u'james@example.com'\n",
    ">>> comment1.content = u'This page needs a bit more detail ;-)'\n",
    ">>> comment2 = model.Comment()\n",
    ">>> comment2.name = u'Mike'\n",
    ">>> comment2.email = u'mike@example.com'\n",
    ">>> page.comments.append(comment1)\n",
    ">>> page.comments.append(comment2)\n",
    ">>> session.commit()\n",
    "\n",
    "The interesting thing to note is that rather than having manually set each comment’s .pageid attribute, you simply appended the comments to the page’s .comments attribute. Note also that there was no need to explicitely add the comments to the session, SQLAlchemy was smart enough to realize that they have been appended to an object that was already in the session."
   ]
  },
  {
   "cell_type": "markdown",
   "metadata": {},
   "source": [
    "### Other notable examples (Review in your free time)\n",
    "Taken from http://www.programcreek.com/python/example/4713/sqlalchemy.create_engine "
   ]
  },
  {
   "cell_type": "code",
   "execution_count": null,
   "metadata": {
    "collapsed": true
   },
   "outputs": [],
   "source": [
    "def setUp(self):\n",
    "        self._engine = sqlalchemy.create_engine(\"sqlite:///:memory:\")\n",
    "        self._metadata = sqlalchemy.MetaData()\n",
    "        self._metadata.bind = self._engine\n",
    "        self._sports_table = sqlalchemy.Table(\"sports\", self._metadata,\n",
    "            sqlalchemy.Column(\"id_sports\", sqlalchemy.Integer, primary_key=True),\n",
    "            sqlalchemy.Column(\"name\", sqlalchemy.String(100)),\n",
    "            sqlalchemy.Column(\"weight\", sqlalchemy.Float),\n",
    "            sqlalchemy.Column(\"color\", sqlalchemy.String(6)),\n",
    "            sqlalchemy.Column(\"met\", sqlalchemy.Float),\n",
    "            sqlalchemy.Column(\"max_pace\", sqlalchemy.Integer)\n",
    "        )\n",
    "        self._metadata.drop_all()\n",
    "        self._metadata.create_all()\n",
    "        "
   ]
  },
  {
   "cell_type": "code",
   "execution_count": null,
   "metadata": {
    "collapsed": true
   },
   "outputs": [],
   "source": [
    "def setUp(self):\n",
    "        self.engine = create_engine('sqlite:///:memory:')\n",
    "        self.session = self._create_session()\n",
    "        self._populate_database()\n",
    "        self.query = self.session.query(User).order_by(asc(User.id))\n",
    "        self.proxy = QueryResultProxy(self.query)"
   ]
  },
  {
   "cell_type": "code",
   "execution_count": null,
   "metadata": {
    "collapsed": true
   },
   "outputs": [],
   "source": [
    "def db_setup(test_subj, dbname=TEST_DB_NAME, dbdump=TEST_DB_DUMP, echo=False):\n",
    "    \"\"\"Sets up the db for use by a given test subject.\n",
    "\n",
    "    test_subj must be an instance of DbTestFixture (or inheritated class),\n",
    "    or the class itself. This allows using db_setup by\n",
    "    - unittest setUp (instance method), or\n",
    "    - unittest setUpClass (class method).\n",
    "\n",
    "    \"\"\"\n",
    "    try:\n",
    "        pg_createdb(dbname)\n",
    "    except subprocess.CalledProcessError:  # try recovering once, in case\n",
    "        pg_dropdb(dbname)\t\t\t# the db already existed\n",
    "        pg_createdb(dbname)\n",
    "    test_subj.dbname = dbname\n",
    "    test_subj.db = sqlalchemy.create_engine(\n",
    "        'postgresql:///' + dbname, echo=echo)\n",
    "    pg_restore(dbname, dbdump)\n",
    "    Session = sqlalchemy.orm.sessionmaker()\n",
    "    test_subj.session = Session(bind=test_subj.db)"
   ]
  }
 ],
 "metadata": {
  "anaconda-cloud": {},
  "kernelspec": {
   "display_name": "Python [Root]",
   "language": "python",
   "name": "Python [Root]"
  },
  "language_info": {
   "codemirror_mode": {
    "name": "ipython",
    "version": 3
   },
   "file_extension": ".py",
   "mimetype": "text/x-python",
   "name": "python",
   "nbconvert_exporter": "python",
   "pygments_lexer": "ipython3",
   "version": "3.5.2"
  }
 },
 "nbformat": 4,
 "nbformat_minor": 0
}
