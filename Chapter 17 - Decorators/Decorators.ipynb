{
 "cells": [
  {
   "cell_type": "markdown",
   "metadata": {},
   "source": [
    "# Decorators\n",
    "---\n",
    "A decorator is the name used for a software design pattern. Decorators dynamically alter the functionality of a function, method, or class without having to directly use subclasses or change the source code of the function being decorated.\n",
    "\n",
    "Python decorator is a specific change to the Python syntax that allows us to more conveniently alter functions and methods (and possibly classes in a future version). This supports more readable applications of the DecoratorPattern but also other uses as well."
   ]
  },
  {
   "cell_type": "code",
   "execution_count": 1,
   "metadata": {
    "collapsed": false
   },
   "outputs": [
    {
     "name": "stdout",
     "output_type": "stream",
     "text": [
      "--ham--\n",
      "</''''''\\>\n",
      "#tomatoes#\n",
      "--ham--\n",
      "~salad~\n",
      "<\\______/>\n"
     ]
    }
   ],
   "source": [
    "def bread(func):\n",
    "    def wrapper():\n",
    "        print(\"</''''''\\>\")\n",
    "        func()\n",
    "        print(\"<\\______/>\")\n",
    "    return wrapper\n",
    "\n",
    "def ingredients(func):\n",
    "    def wrapper():\n",
    "        print(\"#tomatoes#\")\n",
    "        func()\n",
    "        print(\"~salad~\")\n",
    "    return wrapper\n",
    "\n",
    "def sandwich(food=\"--ham--\"):\n",
    "    print(food)\n",
    "\n",
    "sandwich()\n",
    "#outputs: --ham--\n",
    "sandwich = bread(ingredients(sandwich))\n",
    "sandwich()"
   ]
  },
  {
   "cell_type": "code",
   "execution_count": 2,
   "metadata": {
    "collapsed": false
   },
   "outputs": [
    {
     "name": "stdout",
     "output_type": "stream",
     "text": [
      "</''''''\\>\n",
      "#tomatoes#\n",
      "--ham--\n",
      "~salad~\n",
      "<\\______/>\n"
     ]
    }
   ],
   "source": [
    "@bread\n",
    "@ingredients\n",
    "def sandwich(food=\"--ham--\"):\n",
    "    print(food)\n",
    "\n",
    "sandwich()"
   ]
  },
  {
   "cell_type": "markdown",
   "metadata": {},
   "source": [
    "> ***!!! Order Matters !!!*** "
   ]
  },
  {
   "cell_type": "code",
   "execution_count": 4,
   "metadata": {
    "collapsed": false
   },
   "outputs": [
    {
     "name": "stdout",
     "output_type": "stream",
     "text": [
      "#tomatoes#\n",
      "</''''''\\>\n",
      "--ham--\n",
      "<\\______/>\n",
      "~salad~\n"
     ]
    }
   ],
   "source": [
    "@ingredients\n",
    "@bread\n",
    "def sandwich(food=\"--ham--\"):\n",
    "    print(food)\n",
    "\n",
    "sandwich()"
   ]
  }
 ],
 "metadata": {
  "anaconda-cloud": {},
  "kernelspec": {
   "display_name": "Python [Root]",
   "language": "python",
   "name": "Python [Root]"
  },
  "language_info": {
   "codemirror_mode": {
    "name": "ipython",
    "version": 3
   },
   "file_extension": ".py",
   "mimetype": "text/x-python",
   "name": "python",
   "nbconvert_exporter": "python",
   "pygments_lexer": "ipython3",
   "version": "3.5.2"
  }
 },
 "nbformat": 4,
 "nbformat_minor": 0
}
