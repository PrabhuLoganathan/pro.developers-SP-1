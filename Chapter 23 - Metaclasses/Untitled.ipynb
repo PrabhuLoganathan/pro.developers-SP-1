{
 "cells": [
  {
   "cell_type": "markdown",
   "metadata": {},
   "source": [
    "# Metaprogramming\n",
    "-----\n",
    "Objects are created by other objects: special objects called “classes” that we can set up to spit out objects that are configured to our liking.\n",
    "\n",
    "Classes are just objects, and they can be modified the same way:"
   ]
  },
  {
   "cell_type": "code",
   "execution_count": 2,
   "metadata": {
    "collapsed": false
   },
   "outputs": [
    {
     "data": {
      "text/plain": [
       "42"
      ]
     },
     "execution_count": 2,
     "metadata": {},
     "output_type": "execute_result"
    }
   ],
   "source": [
    "class Foo: pass\n",
    "\n",
    "Foo.field = 42\n",
    "\n",
    "x = Foo()\n",
    "x.field"
   ]
  },
  {
   "cell_type": "code",
   "execution_count": 4,
   "metadata": {
    "collapsed": false
   },
   "outputs": [
    {
     "data": {
      "text/plain": [
       "99"
      ]
     },
     "execution_count": 4,
     "metadata": {},
     "output_type": "execute_result"
    }
   ],
   "source": [
    "Foo.field2 = 99\n",
    "x.field2"
   ]
  },
  {
   "cell_type": "code",
   "execution_count": 6,
   "metadata": {
    "collapsed": false
   },
   "outputs": [
    {
     "data": {
      "text/plain": [
       "'Hi!'"
      ]
     },
     "execution_count": 6,
     "metadata": {},
     "output_type": "execute_result"
    }
   ],
   "source": [
    "Foo.method = lambda self: \"Hi!\"\n",
    "x.method()"
   ]
  },
  {
   "cell_type": "markdown",
   "metadata": {},
   "source": [
    "To modify a class, you perform operations on it like any other object. You can add and subtract fields and methods, for example. The difference is that any change you make to a class affects all the objects of that class, even the ones that have already been instantiated.\n",
    "\n",
    "What creates these special “class” objects? Other special objects, called metaclasses.\n",
    "\n",
    "The default metaclass is called type and in the vast majority of cases it does the right thing. In some situations, however, you can gain leverage by modifying the way that classes are produced – typically by performing extra actions or injecting code. When this is the case, you can use metaclass programming to modify the way that some of your class objects are created.\n",
    "\n",
    "It’s worth re-emphasizing that in the vast majority of cases, you don’t need metaclasses, because it’s a fascinating toy and the temptation to use it everywhere can be overwhelming. Some of the examples in this chapter will show both metaclass and non-metaclass solutions to a problem, so you can see that there’s usually another (often simpler) approach.\n",
    "\n",
    "Some of the functionality that was previously only available with metaclasses is now available in a simpler form using class decorators. It is still useful, however, to understand metaclasses, and certain results can still be achieved only through metaclass programming.\n",
    "\n",
    "## Basic Metaprogramming\n",
    "-----\n",
    "\n",
    "So metaclasses create classes, and classes create instances. Normally when we write a class, the default metaclass type is automatically invoked to create that class, and we aren’t even aware that it’s happening.\n",
    "\n",
    "It’s possible to explicitly code the metaclass’ creation of a class. type called with one argument produces the type information of an existing class; type called with three arguments creates a new class object. The arguments when invoking type are the name of the class, a list of base classes, and a dictionary giving the namespace for the class (all the fields and methods). So the equivalent of:"
   ]
  },
  {
   "cell_type": "code",
   "execution_count": 8,
   "metadata": {
    "collapsed": true
   },
   "outputs": [],
   "source": [
    "class C: pass"
   ]
  },
  {
   "cell_type": "markdown",
   "metadata": {},
   "source": [
    "is"
   ]
  },
  {
   "cell_type": "code",
   "execution_count": 10,
   "metadata": {
    "collapsed": true
   },
   "outputs": [],
   "source": [
    "C = type('C', (), {})"
   ]
  },
  {
   "cell_type": "markdown",
   "metadata": {},
   "source": [
    "Classes are often referred to as “types,” so this reads fairly sensibly: you’re calling a function that creates a new type based on its arguments.\n",
    "\n",
    "We can also add base classes, fields and methods:"
   ]
  },
  {
   "cell_type": "code",
   "execution_count": 11,
   "metadata": {
    "collapsed": false
   },
   "outputs": [
    {
     "name": "stdout",
     "output_type": "stream",
     "text": [
      "['Camembert']\n",
      "42\n",
      "Howdy, John\n",
      "<class 'type'>\n"
     ]
    }
   ],
   "source": [
    "def howdy(self, you):\n",
    "    print(\"Howdy, \" + you)\n",
    "\n",
    "MyList = type('MyList', (list,), dict(x=42, howdy=howdy))\n",
    "\n",
    "ml = MyList()\n",
    "ml.append(\"Camembert\")\n",
    "print(ml)\n",
    "print(ml.x)\n",
    "ml.howdy(\"John\")\n",
    "\n",
    "print(ml.__class__.__class__)"
   ]
  },
  {
   "cell_type": "markdown",
   "metadata": {},
   "source": [
    "Note that printing the class of the class produces the metaclass.\n",
    "\n",
    "The ability to generate classes programmatically using type opens up some interesting possibilities. Consider the GreenHouseLanguage.py example in the Jython chapter – all the subclasses in that case were written using repetetive code. We can automate the generation of the subclasses using type:"
   ]
  },
  {
   "cell_type": "code",
   "execution_count": 13,
   "metadata": {
    "collapsed": false
   },
   "outputs": [
    {
     "ename": "SyntaxError",
     "evalue": "invalid syntax (<ipython-input-13-61f6e97bdb49>, line 37)",
     "output_type": "error",
     "traceback": [
      "\u001b[1;36m  File \u001b[1;32m\"<ipython-input-13-61f6e97bdb49>\"\u001b[1;36m, line \u001b[1;32m37\u001b[0m\n\u001b[1;33m    exec klass in globals()\u001b[0m\n\u001b[1;37m             ^\u001b[0m\n\u001b[1;31mSyntaxError\u001b[0m\u001b[1;31m:\u001b[0m invalid syntax\n"
     ]
    }
   ],
   "source": [
    "class Event(object):\n",
    "    events = [] # static\n",
    "\n",
    "    def __init__(self, action, time):\n",
    "        self.action = action\n",
    "        self.time = time\n",
    "        Event.events.append(self)\n",
    "\n",
    "    def __cmp__ (self, other):\n",
    "        \"So sort() will compare only on time.\"\n",
    "        return cmp(self.time, other.time)\n",
    "\n",
    "    def run(self):\n",
    "        print(\"%.2f: %s\" % (self.time, self.action))\n",
    "\n",
    "    @staticmethod\n",
    "    def run_events():\n",
    "        Event.events.sort();\n",
    "        for e in Event.events:\n",
    "            e.run()\n",
    "\n",
    "def create_mc(description):\n",
    "    \"Create subclass using the 'type' metaclass\"\n",
    "    class_name = \"\".join(x.capitalize() for x in description.split())\n",
    "    def __init__(self, time):\n",
    "        Event.__init__(self, description + \" [mc]\", time)\n",
    "    globals()[class_name] = \\\n",
    "        type(class_name, (Event,), dict(__init__ = __init__))\n",
    "\n",
    "def create_exec(description):\n",
    "    \"Create subclass by exec-ing a string\"\n",
    "    class_name = \"\".join(x.capitalize() for x in description.split())\n",
    "    klass = \"\"\"\n",
    "class %s(Event):\n",
    "    def __init__(self, time):\n",
    "        Event.__init__(self, \"%s [exec]\", time)\n",
    "\"\"\" % (class_name, description)\n",
    "    exec klass in globals()\n",
    "\n",
    "if __name__ == \"__main__\":\n",
    "    descriptions = [\"Light on\", \"Light off\", \"Water on\", \"Water off\",\n",
    "                    \"Thermostat night\", \"Thermostat day\", \"Ring bell\"]\n",
    "    initializations = \"ThermostatNight(5.00); LightOff(2.00); \\\n",
    "        WaterOn(3.30); WaterOff(4.45); LightOn(1.00); \\\n",
    "        RingBell(7.00); ThermostatDay(6.00)\"\n",
    "    [create_mc(dsc) for dsc in descriptions]\n",
    "    exec initializations in globals()\n",
    "    [create_exec(dsc) for dsc in descriptions]\n",
    "    exec initializations in globals()\n",
    "    Event.run_events()"
   ]
  },
  {
   "cell_type": "code",
   "execution_count": null,
   "metadata": {
    "collapsed": true
   },
   "outputs": [],
   "source": []
  }
 ],
 "metadata": {
  "anaconda-cloud": {},
  "kernelspec": {
   "display_name": "Python [Root]",
   "language": "python",
   "name": "Python [Root]"
  },
  "language_info": {
   "codemirror_mode": {
    "name": "ipython",
    "version": 3
   },
   "file_extension": ".py",
   "mimetype": "text/x-python",
   "name": "python",
   "nbconvert_exporter": "python",
   "pygments_lexer": "ipython3",
   "version": "3.5.2"
  }
 },
 "nbformat": 4,
 "nbformat_minor": 0
}
