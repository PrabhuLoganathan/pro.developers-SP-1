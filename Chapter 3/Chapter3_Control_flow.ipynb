{
 "cells": [
  {
   "cell_type": "markdown",
   "metadata": {},
   "source": [
    "Chapter 3: Control Flow\n",
    "=============================\n",
    "_____________________________\n",
    "Python supports Control flow using \n",
    "- if\n",
    "- if .. else\n",
    "- if .. elif ..else\n",
    "\n",
    "Syntax:\n",
    "\n",
    "    if <condition>:\n",
    "        <code block>\n",
    "    elif <condition>:\n",
    "        <code block>\n",
    "    elif <condition>:\n",
    "        <code block>\n",
    "    else:\n",
    "        <code block>\n",
    "\n",
    "Where:\n",
    "\n",
    "+ `<condition>`: sentence that can be evaluated as true or false.\n",
    "+ `<code block>`: sequence of command lines.\n",
    "+ The clauses `elif` and `else` are optional and  several `elifs` for the `if` may be used but only  one `else` at the end.\n",
    "+ Parentheses are only required to avoid ambiguity.\n",
    "Example:"
   ]
  },
  {
   "cell_type": "code",
   "execution_count": 1,
   "metadata": {
    "collapsed": false
   },
   "outputs": [
    {
     "name": "stdout",
     "output_type": "stream",
     "text": [
      "Hello\n"
     ]
    }
   ],
   "source": [
    "x = 10\n",
    "if(x > 9):\n",
    "    print(\"Hello\")"
   ]
  },
  {
   "cell_type": "code",
   "execution_count": 2,
   "metadata": {
    "collapsed": false
   },
   "outputs": [
    {
     "name": "stdout",
     "output_type": "stream",
     "text": [
      "Name is mayank\n"
     ]
    }
   ],
   "source": [
    "x = \"mayank\"\n",
    "if(x == \"mayank\"):\n",
    "    print(\"Name is mayank\")\n",
    "else:\n",
    "    print(\"Name is not mayank\")"
   ]
  },
  {
   "cell_type": "code",
   "execution_count": 4,
   "metadata": {
    "collapsed": false
   },
   "outputs": [
    {
     "name": "stdout",
     "output_type": "stream",
     "text": [
      "Normal\n"
     ]
    }
   ],
   "source": [
    "temp = 23 # temperature value used to test\n",
    "\n",
    "if temp < 0:\n",
    "    print ('Freezing...')\n",
    "elif 0 <= temp <= 20:\n",
    "    print ('Cold')\n",
    "elif 21 <= temp <= 25:\n",
    "    print ('Normal')\n",
    "elif 26 <= temp <= 35:\n",
    "    print ('Hot')\n",
    "else:\n",
    "    print ('Very Hot!')"
   ]
  },
  {
   "cell_type": "markdown",
   "metadata": {},
   "source": [
    "Imagine that in the above program, `23` is the temperature which was read by  some sensor or manually entered by the user and `Normal` is the response of the program.\n",
    "\n",
    "If the code block is composed of only one line, it can be written after the colon:\n",
    "\n",
    "    if temp < 0: print 'Freezing...'\n",
    "\n",
    "Since version 2.5, Python supports the expression:\n",
    "\n",
    "    <variable> = <value 1> if <condition> else <value 2>\n",
    "\n",
    "Where `<variable>` receives `<value 1>` if `<condition>` is true and `<value 2>`  otherwise."
   ]
  }
 ],
 "metadata": {
  "anaconda-cloud": {},
  "kernelspec": {
   "display_name": "Python [Root]",
   "language": "python",
   "name": "Python [Root]"
  },
  "language_info": {
   "codemirror_mode": {
    "name": "ipython",
    "version": 3
   },
   "file_extension": ".py",
   "mimetype": "text/x-python",
   "name": "python",
   "nbconvert_exporter": "python",
   "pygments_lexer": "ipython3",
   "version": "3.5.2"
  }
 },
 "nbformat": 4,
 "nbformat_minor": 0
}
