{
 "cells": [
  {
   "cell_type": "markdown",
   "metadata": {},
   "source": [
    "Chapter 8: Modules\n",
    "=============================\n",
    "_____________________________\n",
    "For Python, modules are source files that can be imported into a program. They can contain any Python structure and run when <span class=\"note\" title=\"If it is necessary to run the module again during the execution of the application, it will have to be loaded again with the reload () function.\">imported</span>. They are compiled when first imported and stored in a file (with the extension \".pyc\" or \".pyo\"), have their own *namespaces*  and support *Doc Strings*. They are singleton objects (only one instance is loaded into memory, which is available globally for the program).\n",
    "\n",
    "![Modules](files/bpyfd_diags6.png)\n",
    "\n",
    "The modules are located by the interpreter through the list of folders `PYTHONPATH` (sys.path), which usually includes the current directory first.\n",
    "\n",
    "The modules are loaded with the `import` statement. Thus, when using a module structure, it is necessary to identify the module. This is called absolute import."
   ]
  },
  {
   "cell_type": "code",
   "execution_count": 9,
   "metadata": {
    "collapsed": false
   },
   "outputs": [
    {
     "name": "stdout",
     "output_type": "stream",
     "text": [
      "posix\n"
     ]
    }
   ],
   "source": [
    "import os\n",
    "print (os.name)"
   ]
  },
  {
   "cell_type": "markdown",
   "metadata": {},
   "source": [
    "You can also import modules with relative form:"
   ]
  },
  {
   "cell_type": "code",
   "execution_count": 10,
   "metadata": {
    "collapsed": false
   },
   "outputs": [
    {
     "name": "stdout",
     "output_type": "stream",
     "text": [
      "posix\n"
     ]
    }
   ],
   "source": [
    "from os import name\n",
    "print (name)"
   ]
  },
  {
   "cell_type": "markdown",
   "metadata": {},
   "source": [
    "To avoid problems such as variable obfuscation, the absolute import is considered a better programming practice than the relative import.\n",
    "\n",
    "Example of module:"
   ]
  },
  {
   "cell_type": "code",
   "execution_count": 4,
   "metadata": {
    "collapsed": false
   },
   "outputs": [],
   "source": [
    "# File calc.py\n",
    "\n",
    "# Function defined in module\n",
    "def average(list):\n",
    "\n",
    "    return float(sum(list)) / len(list)"
   ]
  },
  {
   "cell_type": "markdown",
   "metadata": {},
   "source": [
    "Example of module usage:"
   ]
  },
  {
   "cell_type": "code",
   "execution_count": 3,
   "metadata": {
    "collapsed": false
   },
   "outputs": [
    {
     "name": "stdout",
     "output_type": "stream",
     "text": [
      "38.5\n"
     ]
    }
   ],
   "source": [
    "# Imports calc module\n",
    "import calc\n",
    "\n",
    "l = [23, 54, 31, 77, 12, 34]\n",
    "\n",
    "# Calls the function defined in calc\n",
    "print (calc.average(l))"
   ]
  },
  {
   "cell_type": "markdown",
   "metadata": {},
   "source": [
    "The main module of a program has the variable `__name__` equals to `__main__`, thus it is possible to test if the main module:"
   ]
  },
  {
   "cell_type": "code",
   "execution_count": 13,
   "metadata": {
    "collapsed": false
   },
   "outputs": [],
   "source": [
    "if __name__ == \"__main__\":\n",
    "    # Code here will only be run \n",
    "    # if it is the main module\n",
    "    # and not when it is imported by another program\n",
    "    pass"
   ]
  },
  {
   "cell_type": "markdown",
   "metadata": {},
   "source": [
    "That way it is easy to turn a program into a module.\n",
    "\n",
    "Another module example:"
   ]
  },
  {
   "cell_type": "code",
   "execution_count": 1,
   "metadata": {
    "collapsed": false
   },
   "outputs": [],
   "source": [
    "\"\"\"\n",
    "modutils => utility routines for modules\n",
    "\"\"\"\n",
    "\n",
    "import os.path\n",
    "import sys\n",
    "import glob\n",
    "\n",
    "def find(txt):\n",
    "    \"\"\"find modules with name containing the parameter\n",
    "    \"\"\"\n",
    "\n",
    "    resp = []\n",
    "\n",
    "    for path in sys.path:\n",
    "        mods = glob.glob('%s/*.py' % path)\n",
    "\n",
    "        for mod in mods:\n",
    "            if txt in os.path.basename(mod):\n",
    "                resp.append(mod)\n",
    "\n",
    "    return resp"
   ]
  },
  {
   "cell_type": "markdown",
   "metadata": {},
   "source": [
    "Example module use:"
   ]
  },
  {
   "cell_type": "code",
   "execution_count": 4,
   "metadata": {
    "collapsed": false
   },
   "outputs": [
    {
     "name": "stdout",
     "output_type": "stream",
     "text": [
      "Valid attributes of module:  ['__builtins__', '__cached__', '__doc__', '__file__', '__loader__', '__name__', '__package__', '__spec__', 'find', 'glob', 'os', 'sys']\n",
      "/home/mayank/apps/anaconda3/lib/python3.5/_strptime.py: (21.189453125 kbytes, Mon Dec  7 22:47:16 2015)\n",
      "/home/mayank/apps/anaconda3/lib/python3.5/timeit.py: (12.1015625 kbytes, Mon Dec  7 22:47:18 2015)\n",
      "/home/mayank/apps/anaconda3/lib/python3.5/datetime.py: (74.0888671875 kbytes, Mon Dec  7 22:47:06 2015)\n"
     ]
    }
   ],
   "source": [
    "from os.path import getsize, getmtime\n",
    "from time import localtime, asctime\n",
    "\n",
    "import modutils\n",
    "\n",
    "mods = modutils.find('time')\n",
    "print(\"Valid attributes of module: \", dir(modutils))\n",
    "for mod in mods:\n",
    "    tm = asctime(localtime(getmtime(mod)))\n",
    "    kb = getsize(mod) / 1024\n",
    "    print ('{0}: ({1} kbytes, {2})'.format(mod, kb, tm))"
   ]
  },
  {
   "cell_type": "markdown",
   "metadata": {},
   "source": [
    "_TIP_: Splitting programs into modules makes it easy to reuse and locate faults in the code."
   ]
  }
 ],
 "metadata": {
  "kernelspec": {
   "display_name": "Python 3",
   "language": "python",
   "name": "python3"
  },
  "language_info": {
   "codemirror_mode": {
    "name": "ipython",
    "version": 3
   },
   "file_extension": ".py",
   "mimetype": "text/x-python",
   "name": "python",
   "nbconvert_exporter": "python",
   "pygments_lexer": "ipython3",
   "version": "3.5.1"
  }
 },
 "nbformat": 4,
 "nbformat_minor": 0
}
