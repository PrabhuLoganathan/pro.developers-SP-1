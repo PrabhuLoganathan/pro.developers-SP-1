{
 "cells": [
  {
   "cell_type": "markdown",
   "metadata": {},
   "source": [
    "Chapter 13: Exceptions\n",
    "=============================\n",
    "_____________________________\n",
    "When a failure occurs in the program (such as division by zero, for example) at runtime, an exception is generated. If the exception is not handled, it will be propagated through function calls to the main program module, interrupting execution."
   ]
  },
  {
   "cell_type": "code",
   "execution_count": 1,
   "metadata": {
    "collapsed": false
   },
   "outputs": [
    {
     "ename": "ZeroDivisionError",
     "evalue": "division by zero",
     "output_type": "error",
     "traceback": [
      "\u001b[1;31m---------------------------------------------------------------------------\u001b[0m",
      "\u001b[1;31mZeroDivisionError\u001b[0m                         Traceback (most recent call last)",
      "\u001b[1;32m<ipython-input-1-a6fa5d04e753>\u001b[0m in \u001b[0;36m<module>\u001b[1;34m()\u001b[0m\n\u001b[1;32m----> 1\u001b[1;33m \u001b[0mprint\u001b[0m \u001b[1;33m(\u001b[0m\u001b[1;36m1\u001b[0m\u001b[1;33m/\u001b[0m\u001b[1;36m0\u001b[0m\u001b[1;33m)\u001b[0m\u001b[1;33m\u001b[0m\u001b[0m\n\u001b[0m",
      "\u001b[1;31mZeroDivisionError\u001b[0m: division by zero"
     ]
    }
   ],
   "source": [
    "print (1/0)"
   ]
  },
  {
   "cell_type": "markdown",
   "metadata": {},
   "source": [
    "The *try* instruction allows exception handling in Python. If an exception occurs in a block marked by *try*, it is possible to handle the exception through the instruction *except*. It is possible to have many *except* blocks for the same *try* block."
   ]
  },
  {
   "cell_type": "code",
   "execution_count": 3,
   "metadata": {
    "collapsed": false
   },
   "outputs": [
    {
     "name": "stdout",
     "output_type": "stream",
     "text": [
      "Error trying to divide by zero.\n"
     ]
    }
   ],
   "source": [
    "try:\n",
    "    print (1/0)\n",
    "except ZeroDivisionError:\n",
    "    print ('Error trying to divide by zero.')"
   ]
  },
  {
   "cell_type": "markdown",
   "metadata": {},
   "source": [
    "If *except* receives the name of an exception, only that exception will be handled. If no exception name is passed as a parameter, all exceptions will be handled.\n",
    "\n",
    "Example:"
   ]
  },
  {
   "cell_type": "code",
   "execution_count": 9,
   "metadata": {
    "collapsed": false
   },
   "outputs": [
    {
     "name": "stdout",
     "output_type": "stream",
     "text": [
      "File Name (temp.txt): temp.txt\n",
      "1 >  0.06 0.66 0.01 0.94 0.58\n",
      "\n",
      "2 >  0.93 0.72 0.14 0.88 0.50\n",
      "\n",
      "3 >  0.74 0.34 0.64 0.51 0.95\n",
      "\n",
      "4 >  0.35 0.87 0.10 0.02 0.21\n",
      "\n",
      "5 >  0.66 0.92 0.66 0.46 0.82\n",
      "\n"
     ]
    }
   ],
   "source": [
    "import traceback\n",
    "\n",
    "# Try to get a file name\n",
    "try:\n",
    "    fn = input('File Name (temp.txt): ').strip()\n",
    "\n",
    "    # Numbering lines\n",
    "    for i, s in enumerate(open(fn)):\n",
    "        print( i + 1,\"> \", s,)\n",
    "\n",
    "# If an error happens\n",
    "except:\n",
    "\n",
    "    # Show it on the screen\n",
    "    trace = traceback.format_exc()\n",
    "\n",
    "    # And save it on a file\n",
    "    print ('An error happened:\\n', trace)\n",
    "    file('trace.log', 'a').write(trace)\n",
    "\n",
    "    # end the program\n",
    "    raise SystemExit"
   ]
  },
  {
   "cell_type": "markdown",
   "metadata": {},
   "source": [
    "The module *traceback* offers functions for dealing with error messages. The function format_exc() returns the output of the last exception formatted in a *string*.\n",
    "\n",
    "The handling of exceptions may have an *else* block, which will be executed when no exception occurs and a *finally* block, which will be executed anyway, whether an exception occurred or <span class=\"note\" title=\"The finally declaration may be used for freeing resources that were used in the try block, such as database connections or open files.\">not</span>. New types of exceptions may be defined through inheritance of the class *Exception*.\n",
    "\n",
    "Since version 2.6, the instruction *with* is available, that may replace the combination of *try / finally* in many situations. It is possible to define an object that will be used during the *with* block execution. The object will support the context management protocol, which means that it will need to have an `__enter__()` method, which will be executed at the beginning of the block, and another called `__exit__()`, which will be called at the end of the block.\n",
    "\n",
    "Example:"
   ]
  },
  {
   "cell_type": "code",
   "execution_count": 14,
   "metadata": {
    "collapsed": false
   },
   "outputs": [
    {
     "name": "stdout",
     "output_type": "stream",
     "text": [
      "<_io.TextIOWrapper name='temp.txt' mode='w' encoding='UTF-8'> 0.02\n",
      "<_io.TextIOWrapper name='temp.txt' mode='w' encoding='UTF-8'> 0.51\n",
      "<_io.TextIOWrapper name='temp.txt' mode='w' encoding='UTF-8'> 0.14\n",
      "<_io.TextIOWrapper name='temp.txt' mode='w' encoding='UTF-8'> 0.99\n",
      "<_io.TextIOWrapper name='temp.txt' mode='w' encoding='UTF-8'> 0.73\n",
      "<_io.TextIOWrapper name='temp.txt' mode='w' encoding='UTF-8'>\n",
      "<_io.TextIOWrapper name='temp.txt' mode='w' encoding='UTF-8'> 0.36\n",
      "<_io.TextIOWrapper name='temp.txt' mode='w' encoding='UTF-8'> 0.48\n",
      "<_io.TextIOWrapper name='temp.txt' mode='w' encoding='UTF-8'> 0.72\n",
      "<_io.TextIOWrapper name='temp.txt' mode='w' encoding='UTF-8'> 0.57\n",
      "<_io.TextIOWrapper name='temp.txt' mode='w' encoding='UTF-8'> 0.19\n",
      "<_io.TextIOWrapper name='temp.txt' mode='w' encoding='UTF-8'>\n",
      "<_io.TextIOWrapper name='temp.txt' mode='w' encoding='UTF-8'> 0.46\n",
      "<_io.TextIOWrapper name='temp.txt' mode='w' encoding='UTF-8'> 0.17\n",
      "<_io.TextIOWrapper name='temp.txt' mode='w' encoding='UTF-8'> 0.63\n",
      "<_io.TextIOWrapper name='temp.txt' mode='w' encoding='UTF-8'> 0.43\n",
      "<_io.TextIOWrapper name='temp.txt' mode='w' encoding='UTF-8'> 0.53\n",
      "<_io.TextIOWrapper name='temp.txt' mode='w' encoding='UTF-8'>\n",
      "<_io.TextIOWrapper name='temp.txt' mode='w' encoding='UTF-8'> 0.43\n",
      "<_io.TextIOWrapper name='temp.txt' mode='w' encoding='UTF-8'> 0.56\n",
      "<_io.TextIOWrapper name='temp.txt' mode='w' encoding='UTF-8'> 0.87\n",
      "<_io.TextIOWrapper name='temp.txt' mode='w' encoding='UTF-8'> 0.17\n",
      "<_io.TextIOWrapper name='temp.txt' mode='w' encoding='UTF-8'> 0.04\n",
      "<_io.TextIOWrapper name='temp.txt' mode='w' encoding='UTF-8'>\n",
      "<_io.TextIOWrapper name='temp.txt' mode='w' encoding='UTF-8'> 0.01\n",
      "<_io.TextIOWrapper name='temp.txt' mode='w' encoding='UTF-8'> 0.53\n",
      "<_io.TextIOWrapper name='temp.txt' mode='w' encoding='UTF-8'> 0.73\n",
      "<_io.TextIOWrapper name='temp.txt' mode='w' encoding='UTF-8'> 0.29\n",
      "<_io.TextIOWrapper name='temp.txt' mode='w' encoding='UTF-8'> 0.21\n",
      "<_io.TextIOWrapper name='temp.txt' mode='w' encoding='UTF-8'>\n"
     ]
    }
   ],
   "source": [
    "import random\n",
    "\n",
    "# Creates a file with 25 random numbers\n",
    "with open('temp.txt', 'w') as temp:\n",
    "    for y in range(5):\n",
    "        for x in range(5):\n",
    "            # \"print >> \" records command output on the file\n",
    "            print (temp, '%.2f' % random.random(),)\n",
    "        print (temp)\n",
    "\n",
    "# Shows file content\n",
    "with open('temp.txt') as temp:\n",
    "    for i in temp:\n",
    "        print (i,)\n",
    "\n",
    "# Out of the blocks, the file will be closed\n",
    "# The following command generates an exception ValueError: I/O operation on closed file\n",
    "# print (temp)"
   ]
  },
  {
   "cell_type": "markdown",
   "metadata": {},
   "source": [
    "With file closed at the end of the block, the record attempt generates an exception.\n"
   ]
  },
  {
   "cell_type": "code",
   "execution_count": 1,
   "metadata": {
    "collapsed": false
   },
   "outputs": [
    {
     "data": {
      "text/html": [
       "<style>\n",
       "    @font-face {\n",
       "        font-family: \"Computer Modern\";\n",
       "        src: url('http://mirrors.ctan.org/fonts/cm-unicode/fonts/otf/cmunss.otf');\n",
       "    }\n",
       "    div.cell{\n",
       "        width:800px;\n",
       "        margin-left:16% !important;\n",
       "        margin-right:auto;\n",
       "    }\n",
       "    h1 {\n",
       "        font-family: Helvetica, serif;\n",
       "    }\n",
       "    h4{\n",
       "        margin-top:12px;\n",
       "        margin-bottom: 3px;\n",
       "       }\n",
       "    div.text_cell_render{\n",
       "        font-family: Computer Modern, \"Helvetica Neue\", Arial, Helvetica, Geneva, sans-serif;\n",
       "        line-height: 145%;\n",
       "        font-size: 130%;\n",
       "        width:800px;\n",
       "        margin-left:auto;\n",
       "        margin-right:auto;\n",
       "    }\n",
       "    .CodeMirror{\n",
       "            font-family: \"Source Code Pro\", source-code-pro,Consolas, monospace;\n",
       "    }\n",
       "    .note{\n",
       "            border-bottom: 1px black dotted;\n",
       "    }\n",
       "    .prompt{\n",
       "        display: None;\n",
       "    }\n",
       "    .text_cell_render h5 {\n",
       "        font-weight: 300;\n",
       "        font-size: 16pt;\n",
       "        color: #4057A1;\n",
       "        font-style: italic;\n",
       "        margin-bottom: .5em;\n",
       "        margin-top: 0.5em;\n",
       "        display: block;\n",
       "    }\n",
       "    \n",
       "    .warning{\n",
       "        color: rgb( 240, 20, 20 )\n",
       "        }  \n",
       "</style>\n",
       "<script>\n",
       "    MathJax.Hub.Config({\n",
       "                        TeX: {\n",
       "                           extensions: [\"AMSmath.js\"]\n",
       "                           },\n",
       "                tex2jax: {\n",
       "                    inlineMath: [ ['$','$'], [\"\\\\(\",\"\\\\)\"] ],\n",
       "                    displayMath: [ ['$$','$$'], [\"\\\\[\",\"\\\\]\"] ]\n",
       "                },\n",
       "                displayAlign: 'center', // Change this to 'center' to center equations.\n",
       "                \"HTML-CSS\": {\n",
       "                    styles: {'.MathJax_Display': {\"margin\": 4}}\n",
       "                }\n",
       "        });\n",
       "</script>"
      ],
      "text/plain": [
       "<IPython.core.display.HTML at 0x50f8f98>"
      ]
     },
     "execution_count": 1,
     "metadata": {},
     "output_type": "execute_result"
    }
   ],
   "source": []
  }
 ],
 "metadata": {
  "kernelspec": {
   "display_name": "Python 3",
   "language": "python",
   "name": "python3"
  },
  "language_info": {
   "codemirror_mode": {
    "name": "ipython",
    "version": 3
   },
   "file_extension": ".py",
   "mimetype": "text/x-python",
   "name": "python",
   "nbconvert_exporter": "python",
   "pygments_lexer": "ipython3",
   "version": "3.5.1"
  }
 },
 "nbformat": 4,
 "nbformat_minor": 0
}
