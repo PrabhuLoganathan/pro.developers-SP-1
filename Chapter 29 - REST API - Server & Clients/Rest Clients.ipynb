{
 "cells": [
  {
   "cell_type": "markdown",
   "metadata": {
    "collapsed": true
   },
   "source": [
    "# Rest Clients \n",
    "\n",
    "## Requests\n",
    "-------\n",
    "\n",
    "Requests is the only Non-GMO HTTP library for Python, safe for human consumption.\n",
    "\n",
    "> **Warning**: Recreational use of other HTTP libraries may result in dangerous side-effects, including: security vulnerabilities, verbose code, reinventing the wheel, constantly reading documentation, depression, headaches, or even death.\n",
    "\n",
    "### Supported Features\n",
    "Requests is ready for today's web.\n",
    "\n",
    "* International Domains and URLs\n",
    "* Keep-Alive & Connection Pooling\n",
    "* Sessions with Cookie Persistence\n",
    "* Browser-style SSL Verification\n",
    "* Basic/Digest Authentication\n",
    "* Elegant Key/Value Cookies\n",
    "* Automatic Decompression\n",
    "* Automatic Content Decoding\n",
    "* Unicode Response Bodies\n",
    "* Multipart File Uploads\n",
    "* HTTP(S) Proxy Support\n",
    "* Connection Timeouts\n",
    "* Streaming Downloads\n",
    "* .netrc Support\n",
    "* Chunked Requests\n",
    "* Thread-safety\n",
    "\n",
    "### Sample of Requests"
   ]
  },
  {
   "cell_type": "code",
   "execution_count": null,
   "metadata": {
    "collapsed": false
   },
   "outputs": [],
   "source": [
    "r = requests.get('https://api.github.com/user', auth=('user', 'pass'))\n",
    "r.status_code\n",
    "r.headers['content-type']\n",
    "r.encoding\n",
    "r.text\n",
    "r.json()"
   ]
  },
  {
   "cell_type": "code",
   "execution_count": null,
   "metadata": {
    "collapsed": true
   },
   "outputs": [],
   "source": []
  }
 ],
 "metadata": {
  "kernelspec": {
   "display_name": "Python 3",
   "language": "python",
   "name": "python3"
  },
  "language_info": {
   "codemirror_mode": {
    "name": "ipython",
    "version": 3
   },
   "file_extension": ".py",
   "mimetype": "text/x-python",
   "name": "python",
   "nbconvert_exporter": "python",
   "pygments_lexer": "ipython3",
   "version": "3.5.2"
  }
 },
 "nbformat": 4,
 "nbformat_minor": 0
}
