{
 "cells": [
  {
   "cell_type": "markdown",
   "metadata": {},
   "source": [
    "2.0 Setting Python on your machine\n",
    "====\n",
    "\n",
    "A. Selecting Python Distributions\n",
    "----\n",
    "If one wishes to have most of the packages pre-installed then can select any distribution from the below list.\n",
    "\n",
    "1. [Python.org](https://www.python.org/downloads/)\n",
    "2. [Anaconda](https://www.continuum.io/downloads)\n",
    "3. [Activestate](http://www.activestate.com/activepython/downloads)\n",
    "4. [python(x,y)](http://python-xy.github.io/)\n",
    "5. [WinPython](https://winpython.github.io/)\n",
    "6. [SciPy](https://www.scipy.org/)\n",
    "7. [Enthought Canopy](https://store.enthought.com/downloads/)\n"
   ]
  }
 ],
 "metadata": {
  "kernelspec": {
   "display_name": "Python 3",
   "language": "python",
   "name": "python3"
  },
  "language_info": {
   "codemirror_mode": {
    "name": "ipython",
    "version": 3
   },
   "file_extension": ".py",
   "mimetype": "text/x-python",
   "name": "python",
   "nbconvert_exporter": "python",
   "pygments_lexer": "ipython3",
   "version": "3.6.0"
  }
 },
 "nbformat": 4,
 "nbformat_minor": 2
}
