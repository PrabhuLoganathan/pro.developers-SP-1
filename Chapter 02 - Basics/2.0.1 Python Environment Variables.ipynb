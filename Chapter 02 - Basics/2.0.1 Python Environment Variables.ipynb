{
 "cells": [
  {
   "cell_type": "markdown",
   "metadata": {},
   "source": [
    "2.0.1 Setting Python Installation > Python Enviro0.nmVariables\n",
    "----- \n",
    "\n",
    "If python is installed from source then the following env variables will not be populated and can be updated manually. \n",
    "\n",
    "**S.No**|**Variable**|**Description**\n",
    ":-----:|-----|-----\n",
    "1|PYTHONPATH|It has a role similar to PATH. This variable tells the Python interpreter where to locate the module files imported into a program. It should include the Python source library directory and the directories containing Python source code. PYTHONPATH is sometimes preset by the Python installer.\n",
    "2|PYTHONSTARTUP|It contains the path of an initialization file containing Python source code. It is executed every time you start the interpreter. It is named as .pythonrc.py in Unix and it contains commands that load utilities or modify PYTHONPATH.\n",
    "3|PYTHONCASEOK|It is used in Windows to instruct Python to find the first case-insensitive match in an import statement. Set this variable to any value to activate it.\n",
    "4|PYTHONCASEOK|It is used in Windows to instruct Python to find the first case-insensitive match in an import statement. Set this variable to any value to activate it.\n",
    "5|PYTHONHOME|It is an alternative module search path. It is usually embedded in the PYTHONSTARTUP or PYTHONPATH directories to make switching module libraries easy."
   ]
  }
 ],
 "metadata": {
  "kernelspec": {
   "display_name": "Python 3",
   "language": "python",
   "name": "python3"
  },
  "language_info": {
   "codemirror_mode": {
    "name": "ipython",
    "version": 3
   },
   "file_extension": ".py",
   "mimetype": "text/x-python",
   "name": "python",
   "nbconvert_exporter": "python",
   "pygments_lexer": "ipython3",
   "version": "3.6.1"
  }
 },
 "nbformat": 4,
 "nbformat_minor": 2
}
