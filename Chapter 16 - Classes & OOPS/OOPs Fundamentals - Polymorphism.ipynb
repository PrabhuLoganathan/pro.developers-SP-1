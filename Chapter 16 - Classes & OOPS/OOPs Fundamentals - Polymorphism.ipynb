{
 "cells": [
  {
   "cell_type": "markdown",
   "metadata": {},
   "source": [
    "# Polymorphism\n",
    "---\n",
    "The polymorphism is the process of using an operator or function in different ways for different data input. In practical terms, polymorphism means that if class B inherits from class A, it doesn’t have to inherit everything about class A; it can do some of the things that class A does differently. (wikipedia)"
   ]
  },
  {
   "cell_type": "code",
   "execution_count": 1,
   "metadata": {
    "collapsed": false
   },
   "outputs": [
    {
     "name": "stdout",
     "output_type": "stream",
     "text": [
      "Meow!\n",
      "Woof!\n"
     ]
    }
   ],
   "source": [
    "class Animal:\n",
    "   def __init__(self, name=''):\n",
    "      self.name = name\n",
    "\n",
    "   def talk(self):\n",
    "      pass\n",
    "\n",
    "class Cat(Animal):\n",
    "   def talk(self):\n",
    "      print (\"Meow!\")\n",
    "\n",
    "\n",
    "class Dog(Animal):\n",
    "   def talk(self):\n",
    "      print (\"Woof!\")\n",
    "\n",
    "\n",
    "a = Animal()\n",
    "a.talk()\n",
    "\n",
    "c = Cat(\"Missy\")\n",
    "c.talk()\n",
    "\n",
    "d = Dog(\"Rocky\")\n",
    "d.talk()"
   ]
  },
  {
   "cell_type": "code",
   "execution_count": null,
   "metadata": {
    "collapsed": true
   },
   "outputs": [],
   "source": []
  }
 ],
 "metadata": {
  "anaconda-cloud": {},
  "kernelspec": {
   "display_name": "Python [Root]",
   "language": "python",
   "name": "Python [Root]"
  },
  "language_info": {
   "codemirror_mode": {
    "name": "ipython",
    "version": 3
   },
   "file_extension": ".py",
   "mimetype": "text/x-python",
   "name": "python",
   "nbconvert_exporter": "python",
   "pygments_lexer": "ipython3",
   "version": "3.5.2"
  }
 },
 "nbformat": 4,
 "nbformat_minor": 0
}
